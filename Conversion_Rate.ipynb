{
  "nbformat": 4,
  "nbformat_minor": 0,
  "metadata": {
    "colab": {
      "name": "Conversion_Rate.ipynb",
      "provenance": [],
      "collapsed_sections": [],
      "authorship_tag": "ABX9TyPz8aTG9g0U/0EBMu+KafqW",
      "include_colab_link": true
    },
    "kernelspec": {
      "name": "python3",
      "display_name": "Python 3"
    }
  },
  "cells": [
    {
      "cell_type": "markdown",
      "metadata": {
        "id": "view-in-github",
        "colab_type": "text"
      },
      "source": [
        "<a href=\"https://colab.research.google.com/github/AilingLiu/Growth_Analysis/blob/master/Conversion_Rate.ipynb\" target=\"_parent\"><img src=\"https://colab.research.google.com/assets/colab-badge.svg\" alt=\"Open In Colab\"/></a>"
      ]
    },
    {
      "cell_type": "code",
      "metadata": {
        "id": "KXPITrgG73QQ",
        "colab_type": "code",
        "colab": {}
      },
      "source": [
        "import pandas as pd\n",
        "import numpy as np\n",
        "import matplotlib.pyplot as plt\n",
        "import seaborn as sns\n",
        "import statsmodels.formula.api as smf"
      ],
      "execution_count": 0,
      "outputs": []
    },
    {
      "cell_type": "markdown",
      "metadata": {
        "id": "bpC7uZDI_QXe",
        "colab_type": "text"
      },
      "source": [
        "The data is available at [UCI repository](https://archive.ics.uci.edu/ml/datasets/bank+marketing)."
      ]
    },
    {
      "cell_type": "code",
      "metadata": {
        "id": "5K-5YLdz-zts",
        "colab_type": "code",
        "colab": {
          "base_uri": "https://localhost:8080/",
          "height": 218
        },
        "outputId": "ce0508ce-9f0e-47d2-c78d-b709e9541b24"
      },
      "source": [
        "url = 'https://github.com/AilingLiu/Growth_Analysis/blob/master/Data/bank-additional-full.csv?raw=true'\n",
        "\n",
        "marketing = pd.read_csv(url, sep=';')\n",
        "marketing.head()"
      ],
      "execution_count": 22,
      "outputs": [
        {
          "output_type": "execute_result",
          "data": {
            "text/html": [
              "<div>\n",
              "<style scoped>\n",
              "    .dataframe tbody tr th:only-of-type {\n",
              "        vertical-align: middle;\n",
              "    }\n",
              "\n",
              "    .dataframe tbody tr th {\n",
              "        vertical-align: top;\n",
              "    }\n",
              "\n",
              "    .dataframe thead th {\n",
              "        text-align: right;\n",
              "    }\n",
              "</style>\n",
              "<table border=\"1\" class=\"dataframe\">\n",
              "  <thead>\n",
              "    <tr style=\"text-align: right;\">\n",
              "      <th></th>\n",
              "      <th>age</th>\n",
              "      <th>job</th>\n",
              "      <th>marital</th>\n",
              "      <th>education</th>\n",
              "      <th>default</th>\n",
              "      <th>housing</th>\n",
              "      <th>loan</th>\n",
              "      <th>contact</th>\n",
              "      <th>month</th>\n",
              "      <th>day_of_week</th>\n",
              "      <th>duration</th>\n",
              "      <th>campaign</th>\n",
              "      <th>pdays</th>\n",
              "      <th>previous</th>\n",
              "      <th>poutcome</th>\n",
              "      <th>emp.var.rate</th>\n",
              "      <th>cons.price.idx</th>\n",
              "      <th>cons.conf.idx</th>\n",
              "      <th>euribor3m</th>\n",
              "      <th>nr.employed</th>\n",
              "      <th>y</th>\n",
              "    </tr>\n",
              "  </thead>\n",
              "  <tbody>\n",
              "    <tr>\n",
              "      <th>0</th>\n",
              "      <td>56</td>\n",
              "      <td>housemaid</td>\n",
              "      <td>married</td>\n",
              "      <td>basic.4y</td>\n",
              "      <td>no</td>\n",
              "      <td>no</td>\n",
              "      <td>no</td>\n",
              "      <td>telephone</td>\n",
              "      <td>may</td>\n",
              "      <td>mon</td>\n",
              "      <td>261</td>\n",
              "      <td>1</td>\n",
              "      <td>999</td>\n",
              "      <td>0</td>\n",
              "      <td>nonexistent</td>\n",
              "      <td>1.1</td>\n",
              "      <td>93.994</td>\n",
              "      <td>-36.4</td>\n",
              "      <td>4.857</td>\n",
              "      <td>5191.0</td>\n",
              "      <td>no</td>\n",
              "    </tr>\n",
              "    <tr>\n",
              "      <th>1</th>\n",
              "      <td>57</td>\n",
              "      <td>services</td>\n",
              "      <td>married</td>\n",
              "      <td>high.school</td>\n",
              "      <td>unknown</td>\n",
              "      <td>no</td>\n",
              "      <td>no</td>\n",
              "      <td>telephone</td>\n",
              "      <td>may</td>\n",
              "      <td>mon</td>\n",
              "      <td>149</td>\n",
              "      <td>1</td>\n",
              "      <td>999</td>\n",
              "      <td>0</td>\n",
              "      <td>nonexistent</td>\n",
              "      <td>1.1</td>\n",
              "      <td>93.994</td>\n",
              "      <td>-36.4</td>\n",
              "      <td>4.857</td>\n",
              "      <td>5191.0</td>\n",
              "      <td>no</td>\n",
              "    </tr>\n",
              "    <tr>\n",
              "      <th>2</th>\n",
              "      <td>37</td>\n",
              "      <td>services</td>\n",
              "      <td>married</td>\n",
              "      <td>high.school</td>\n",
              "      <td>no</td>\n",
              "      <td>yes</td>\n",
              "      <td>no</td>\n",
              "      <td>telephone</td>\n",
              "      <td>may</td>\n",
              "      <td>mon</td>\n",
              "      <td>226</td>\n",
              "      <td>1</td>\n",
              "      <td>999</td>\n",
              "      <td>0</td>\n",
              "      <td>nonexistent</td>\n",
              "      <td>1.1</td>\n",
              "      <td>93.994</td>\n",
              "      <td>-36.4</td>\n",
              "      <td>4.857</td>\n",
              "      <td>5191.0</td>\n",
              "      <td>no</td>\n",
              "    </tr>\n",
              "    <tr>\n",
              "      <th>3</th>\n",
              "      <td>40</td>\n",
              "      <td>admin.</td>\n",
              "      <td>married</td>\n",
              "      <td>basic.6y</td>\n",
              "      <td>no</td>\n",
              "      <td>no</td>\n",
              "      <td>no</td>\n",
              "      <td>telephone</td>\n",
              "      <td>may</td>\n",
              "      <td>mon</td>\n",
              "      <td>151</td>\n",
              "      <td>1</td>\n",
              "      <td>999</td>\n",
              "      <td>0</td>\n",
              "      <td>nonexistent</td>\n",
              "      <td>1.1</td>\n",
              "      <td>93.994</td>\n",
              "      <td>-36.4</td>\n",
              "      <td>4.857</td>\n",
              "      <td>5191.0</td>\n",
              "      <td>no</td>\n",
              "    </tr>\n",
              "    <tr>\n",
              "      <th>4</th>\n",
              "      <td>56</td>\n",
              "      <td>services</td>\n",
              "      <td>married</td>\n",
              "      <td>high.school</td>\n",
              "      <td>no</td>\n",
              "      <td>no</td>\n",
              "      <td>yes</td>\n",
              "      <td>telephone</td>\n",
              "      <td>may</td>\n",
              "      <td>mon</td>\n",
              "      <td>307</td>\n",
              "      <td>1</td>\n",
              "      <td>999</td>\n",
              "      <td>0</td>\n",
              "      <td>nonexistent</td>\n",
              "      <td>1.1</td>\n",
              "      <td>93.994</td>\n",
              "      <td>-36.4</td>\n",
              "      <td>4.857</td>\n",
              "      <td>5191.0</td>\n",
              "      <td>no</td>\n",
              "    </tr>\n",
              "  </tbody>\n",
              "</table>\n",
              "</div>"
            ],
            "text/plain": [
              "   age        job  marital  ... euribor3m nr.employed   y\n",
              "0   56  housemaid  married  ...     4.857      5191.0  no\n",
              "1   57   services  married  ...     4.857      5191.0  no\n",
              "2   37   services  married  ...     4.857      5191.0  no\n",
              "3   40     admin.  married  ...     4.857      5191.0  no\n",
              "4   56   services  married  ...     4.857      5191.0  no\n",
              "\n",
              "[5 rows x 21 columns]"
            ]
          },
          "metadata": {
            "tags": []
          },
          "execution_count": 22
        }
      ]
    },
    {
      "cell_type": "code",
      "metadata": {
        "id": "ZEaWFJ8MAJG5",
        "colab_type": "code",
        "colab": {
          "base_uri": "https://localhost:8080/",
          "height": 490
        },
        "outputId": "d49b4db6-19c1-490a-b858-49ed46a1e019"
      },
      "source": [
        "marketing.info()"
      ],
      "execution_count": 4,
      "outputs": [
        {
          "output_type": "stream",
          "text": [
            "<class 'pandas.core.frame.DataFrame'>\n",
            "RangeIndex: 41188 entries, 0 to 41187\n",
            "Data columns (total 21 columns):\n",
            "age               41188 non-null int64\n",
            "job               41188 non-null object\n",
            "marital           41188 non-null object\n",
            "education         41188 non-null object\n",
            "default           41188 non-null object\n",
            "housing           41188 non-null object\n",
            "loan              41188 non-null object\n",
            "contact           41188 non-null object\n",
            "month             41188 non-null object\n",
            "day_of_week       41188 non-null object\n",
            "duration          41188 non-null int64\n",
            "campaign          41188 non-null int64\n",
            "pdays             41188 non-null int64\n",
            "previous          41188 non-null int64\n",
            "poutcome          41188 non-null object\n",
            "emp.var.rate      41188 non-null float64\n",
            "cons.price.idx    41188 non-null float64\n",
            "cons.conf.idx     41188 non-null float64\n",
            "euribor3m         41188 non-null float64\n",
            "nr.employed       41188 non-null float64\n",
            "y                 41188 non-null object\n",
            "dtypes: float64(5), int64(5), object(11)\n",
            "memory usage: 6.6+ MB\n"
          ],
          "name": "stdout"
        }
      ]
    },
    {
      "cell_type": "markdown",
      "metadata": {
        "id": "D5_kF_caAk-U",
        "colab_type": "text"
      },
      "source": [
        "Here, we will be defining the customer that subscribe to the bank product as our conversion target. The column y has a binary categorical value to indicate if customer proceed the subscription or not."
      ]
    },
    {
      "cell_type": "code",
      "metadata": {
        "id": "XvzQySLkAZlN",
        "colab_type": "code",
        "colab": {
          "base_uri": "https://localhost:8080/",
          "height": 72
        },
        "outputId": "a52e154b-722f-42ba-c05c-ef04258bf12a"
      },
      "source": [
        "marketing['conversion'] = np.where(marketing['y']=='yes', 1, 0)\n",
        "marketing.iloc[:, -2].value_counts()"
      ],
      "execution_count": 23,
      "outputs": [
        {
          "output_type": "execute_result",
          "data": {
            "text/plain": [
              "no     36548\n",
              "yes     4640\n",
              "Name: y, dtype: int64"
            ]
          },
          "metadata": {
            "tags": []
          },
          "execution_count": 23
        }
      ]
    },
    {
      "cell_type": "code",
      "metadata": {
        "id": "x0ssGM4RA0_W",
        "colab_type": "code",
        "colab": {
          "base_uri": "https://localhost:8080/",
          "height": 72
        },
        "outputId": "a124b9c7-8f45-47a1-997b-96978a4e22f2"
      },
      "source": [
        "marketing.iloc[:, -2].value_counts(normalize=True).round(2)"
      ],
      "execution_count": 24,
      "outputs": [
        {
          "output_type": "execute_result",
          "data": {
            "text/plain": [
              "no     0.89\n",
              "yes    0.11\n",
              "Name: y, dtype: float64"
            ]
          },
          "metadata": {
            "tags": []
          },
          "execution_count": 24
        }
      ]
    },
    {
      "cell_type": "markdown",
      "metadata": {
        "id": "NngUyq1rBRBv",
        "colab_type": "text"
      },
      "source": [
        "There are 4640 out of 36548 customers have been converted, accouting for 11% of conversion rate. Let's combine a few more independent variables to see how this rate can be affected. We will select `marital`, `age` to see the conversion rate on each level. To make the manipulation easier, we will convert the string values into binary numerical values."
      ]
    },
    {
      "cell_type": "code",
      "metadata": {
        "id": "QpoeQEv_CCT8",
        "colab_type": "code",
        "colab": {
          "base_uri": "https://localhost:8080/",
          "height": 625
        },
        "outputId": "f2d3051f-a2f8-49ca-b6ef-471fc63cbf44"
      },
      "source": [
        "conversion_by_age = (marketing.groupby(['age'])['conversion'].mean().to_frame('conversion_rate')*100).round(2)\n",
        "conversion_by_age.plot(kind='line', figsize=(14, 10))\n",
        "plt.ylabel('conversion rate')"
      ],
      "execution_count": 21,
      "outputs": [
        {
          "output_type": "execute_result",
          "data": {
            "text/plain": [
              "Text(0, 0.5, 'conversion rate')"
            ]
          },
          "metadata": {
            "tags": []
          },
          "execution_count": 21
        },
        {
          "output_type": "display_data",
          "data": {
            "image/png": "[encoded data removed]",
            "text/plain": [
              "<Figure size 1008x720 with 1 Axes>"
            ]
          },
          "metadata": {
            "tags": []
          }
        }
      ]
    },
    {
      "cell_type": "markdown",
      "metadata": {
        "id": "EkDVNwSzEg1z",
        "colab_type": "text"
      },
      "source": [
        "Since it's quite zigzaging especially at the higher end, we can bucket the age into cutomized range.\n",
        "\n",
        "*  [, 20]\n",
        "*  [21, 40]\n",
        "*  [41, 60]\n",
        "*  [61, 80]\n",
        "*  [81, )"
      ]
    },
    {
      "cell_type": "code",
      "metadata": {
        "id": "GlqFq7KzDaqX",
        "colab_type": "code",
        "colab": {
          "base_uri": "https://localhost:8080/",
          "height": 545
        },
        "outputId": "4b32c814-6328-4d23-e9be-28540fdfa3bb"
      },
      "source": [
        "marketing['age_cat'] = pd.cut(marketing['age'], bins=[0, 20, 40, 60, 80, float('inf')], right=True, labels=['[0, 20]', '[21, 40]', '[41, 60]', '[61, 80]', '[80+]'])\n",
        "conversion_by_age_group = (marketing.groupby(['age_cat'])['conversion'].mean().to_frame('conversion_rate')*100).round(2)\n",
        "conversion_by_age_group.plot(kind='bar', figsize=(10, 8), grid=True)\n",
        "plt.ylabel('conversion rate')\n"
      ],
      "execution_count": 25,
      "outputs": [
        {
          "output_type": "execute_result",
          "data": {
            "text/plain": [
              "Text(0, 0.5, 'conversion rate')"
            ]
          },
          "metadata": {
            "tags": []
          },
          "execution_count": 25
        },
        {
          "output_type": "display_data",
          "data": {
            "image/png": "[encoded data removed]",
            "text/plain": [
              "<Figure size 720x576 with 1 Axes>"
            ]
          },
          "metadata": {
            "tags": []
          }
        }
      ]
    },
    {
      "cell_type": "markdown",
      "metadata": {
        "id": "dvl-sGjP2-g-",
        "colab_type": "text"
      },
      "source": [
        "conversion rate by marriage"
      ]
    },
    {
      "cell_type": "code",
      "metadata": {
        "id": "c46R5FtWFw1s",
        "colab_type": "code",
        "colab": {
          "base_uri": "https://localhost:8080/",
          "height": 198
        },
        "outputId": "16f99eb3-8eb2-4123-a74e-38190f324186"
      },
      "source": [
        "conversion_by_marriage = pd.pivot_table(marketing, values='y', index='marital', columns='conversion', aggfunc=len)\n",
        "conversion_by_marriage.columns = ['Not_Converted', 'Converted']\n",
        "conversion_by_marriage"
      ],
      "execution_count": 33,
      "outputs": [
        {
          "output_type": "execute_result",
          "data": {
            "text/html": [
              "<div>\n",
              "<style scoped>\n",
              "    .dataframe tbody tr th:only-of-type {\n",
              "        vertical-align: middle;\n",
              "    }\n",
              "\n",
              "    .dataframe tbody tr th {\n",
              "        vertical-align: top;\n",
              "    }\n",
              "\n",
              "    .dataframe thead th {\n",
              "        text-align: right;\n",
              "    }\n",
              "</style>\n",
              "<table border=\"1\" class=\"dataframe\">\n",
              "  <thead>\n",
              "    <tr style=\"text-align: right;\">\n",
              "      <th></th>\n",
              "      <th>Not_Converted</th>\n",
              "      <th>Converted</th>\n",
              "    </tr>\n",
              "    <tr>\n",
              "      <th>marital</th>\n",
              "      <th></th>\n",
              "      <th></th>\n",
              "    </tr>\n",
              "  </thead>\n",
              "  <tbody>\n",
              "    <tr>\n",
              "      <th>divorced</th>\n",
              "      <td>4136</td>\n",
              "      <td>476</td>\n",
              "    </tr>\n",
              "    <tr>\n",
              "      <th>married</th>\n",
              "      <td>22396</td>\n",
              "      <td>2532</td>\n",
              "    </tr>\n",
              "    <tr>\n",
              "      <th>single</th>\n",
              "      <td>9948</td>\n",
              "      <td>1620</td>\n",
              "    </tr>\n",
              "    <tr>\n",
              "      <th>unknown</th>\n",
              "      <td>68</td>\n",
              "      <td>12</td>\n",
              "    </tr>\n",
              "  </tbody>\n",
              "</table>\n",
              "</div>"
            ],
            "text/plain": [
              "          Not_Converted  Converted\n",
              "marital                           \n",
              "divorced           4136        476\n",
              "married           22396       2532\n",
              "single             9948       1620\n",
              "unknown              68         12"
            ]
          },
          "metadata": {
            "tags": []
          },
          "execution_count": 33
        }
      ]
    },
    {
      "cell_type": "code",
      "metadata": {
        "id": "_hA5RtJa3T9_",
        "colab_type": "code",
        "colab": {
          "base_uri": "https://localhost:8080/",
          "height": 411
        },
        "outputId": "ce916192-8734-43c5-de3c-641e5007e998"
      },
      "source": [
        "conversion_by_marriage.plot(\n",
        "    kind='pie',\n",
        "    figsize=(15, 7),\n",
        "    startangle=90,\n",
        "    subplots=True,\n",
        "    autopct='%0.1f%%'\n",
        ")\n",
        "\n",
        "plt.show()"
      ],
      "execution_count": 35,
      "outputs": [
        {
          "output_type": "display_data",
          "data": {
            "image/png": "[encoded data removed]",
            "text/plain": [
              "<Figure size 1080x504 with 2 Axes>"
            ]
          },
          "metadata": {
            "tags": []
          }
        }
      ]
    },
    {
      "cell_type": "markdown",
      "metadata": {
        "id": "zmaW_ySa67Jz",
        "colab_type": "text"
      },
      "source": [
        "Here, the marriage group is the largest group in both converted and not converted status, following by single group. With pie plot, we can see the similarities and differences from both converted and not converted status."
      ]
    },
    {
      "cell_type": "code",
      "metadata": {
        "id": "tXUiJ0RP6dPW",
        "colab_type": "code",
        "colab": {}
      },
      "source": [
        "a1 = marketing.groupby(['age_cat', 'marital'])['conversion'].sum().unstack().fillna(0)\n",
        "a2 = marketing['age_cat'].value_counts()\n",
        "\n",
        "age_marital_conversion = a1.divide(a2, axis=0)\n",
        "age_marital_conversion.insert(loc=0, column='Total', value=a2)\n"
      ],
      "execution_count": 0,
      "outputs": []
    },
    {
      "cell_type": "code",
      "metadata": {
        "id": "QJvKNXyX83oq",
        "colab_type": "code",
        "colab": {
          "base_uri": "https://localhost:8080/",
          "height": 198
        },
        "outputId": "28c6eba4-f485-4c91-d841-da52d86a407b"
      },
      "source": [
        "age_marital_conversion.round(2)"
      ],
      "execution_count": 62,
      "outputs": [
        {
          "output_type": "execute_result",
          "data": {
            "text/html": [
              "<div>\n",
              "<style scoped>\n",
              "    .dataframe tbody tr th:only-of-type {\n",
              "        vertical-align: middle;\n",
              "    }\n",
              "\n",
              "    .dataframe tbody tr th {\n",
              "        vertical-align: top;\n",
              "    }\n",
              "\n",
              "    .dataframe thead th {\n",
              "        text-align: right;\n",
              "    }\n",
              "</style>\n",
              "<table border=\"1\" class=\"dataframe\">\n",
              "  <thead>\n",
              "    <tr style=\"text-align: right;\">\n",
              "      <th>marital</th>\n",
              "      <th>Total</th>\n",
              "      <th>divorced</th>\n",
              "      <th>married</th>\n",
              "      <th>single</th>\n",
              "      <th>unknown</th>\n",
              "    </tr>\n",
              "  </thead>\n",
              "  <tbody>\n",
              "    <tr>\n",
              "      <th>[0, 20]</th>\n",
              "      <td>140</td>\n",
              "      <td>0.00</td>\n",
              "      <td>0.00</td>\n",
              "      <td>0.41</td>\n",
              "      <td>0.0</td>\n",
              "    </tr>\n",
              "    <tr>\n",
              "      <th>[21, 40]</th>\n",
              "      <td>23628</td>\n",
              "      <td>0.01</td>\n",
              "      <td>0.05</td>\n",
              "      <td>0.06</td>\n",
              "      <td>0.0</td>\n",
              "    </tr>\n",
              "    <tr>\n",
              "      <th>[41, 60]</th>\n",
              "      <td>16510</td>\n",
              "      <td>0.01</td>\n",
              "      <td>0.07</td>\n",
              "      <td>0.01</td>\n",
              "      <td>0.0</td>\n",
              "    </tr>\n",
              "    <tr>\n",
              "      <th>[61, 80]</th>\n",
              "      <td>791</td>\n",
              "      <td>0.07</td>\n",
              "      <td>0.37</td>\n",
              "      <td>0.01</td>\n",
              "      <td>0.0</td>\n",
              "    </tr>\n",
              "    <tr>\n",
              "      <th>[80+]</th>\n",
              "      <td>119</td>\n",
              "      <td>0.26</td>\n",
              "      <td>0.22</td>\n",
              "      <td>0.02</td>\n",
              "      <td>0.0</td>\n",
              "    </tr>\n",
              "  </tbody>\n",
              "</table>\n",
              "</div>"
            ],
            "text/plain": [
              "marital   Total  divorced  married  single  unknown\n",
              "[0, 20]     140      0.00     0.00    0.41      0.0\n",
              "[21, 40]  23628      0.01     0.05    0.06      0.0\n",
              "[41, 60]  16510      0.01     0.07    0.01      0.0\n",
              "[61, 80]    791      0.07     0.37    0.01      0.0\n",
              "[80+]       119      0.26     0.22    0.02      0.0"
            ]
          },
          "metadata": {
            "tags": []
          },
          "execution_count": 62
        }
      ]
    },
    {
      "cell_type": "markdown",
      "metadata": {
        "id": "iGiVPy5k-wZy",
        "colab_type": "text"
      },
      "source": [
        "In the first group, we have 140 customers under 20, and 41% of them have been converted. What's more, all these customers are single.\n",
        "\n",
        "The second highest conversion rate is 37% from the marriaged group of people between 61 to 80 years old.\n",
        "\n",
        "We can conduct a two way anova test to check if these proportions from different groups are significant, followed by a post-hoc test to check specific group differences.\n",
        "\n",
        "Alternatively, we can construct logistic regression, to check which parameter is significant and the effects to conversion rate."
      ]
    },
    {
      "cell_type": "code",
      "metadata": {
        "id": "uwFXn_dN-uDO",
        "colab_type": "code",
        "colab": {
          "base_uri": "https://localhost:8080/",
          "height": 454
        },
        "outputId": "c0a29980-9675-48fa-87ee-df2e6d90baa8"
      },
      "source": [
        "marketing['conversion'] = marketing['conversion'].astype('int')\n",
        "model = smf.logit(formula='conversion~C(age_cat)+C(marital)', data=marketing).fit()\n",
        "print(model.summary())"
      ],
      "execution_count": 70,
      "outputs": [
        {
          "output_type": "stream",
          "text": [
            "Optimization terminated successfully.\n",
            "         Current function value: 0.340372\n",
            "         Iterations 6\n",
            "                           Logit Regression Results                           \n",
            "==============================================================================\n",
            "Dep. Variable:             conversion   No. Observations:                41188\n",
            "Model:                          Logit   Df Residuals:                    41180\n",
            "Method:                           MLE   Df Model:                            7\n",
            "Date:                Sun, 23 Feb 2020   Pseudo R-squ.:                 0.03311\n",
            "Time:                        17:18:40   Log-Likelihood:                -14019.\n",
            "converged:                       True   LL-Null:                       -14499.\n",
            "Covariance Type:            nonrobust   LLR p-value:                4.734e-203\n",
            "==========================================================================================\n",
            "                             coef    std err          z      P>|z|      [0.025      0.975]\n",
            "------------------------------------------------------------------------------------------\n",
            "Intercept                 -0.8036      0.182     -4.414      0.000      -1.160      -0.447\n",
            "C(age_cat)[T.[21, 40]]    -1.4653      0.174     -8.409      0.000      -1.807      -1.124\n",
            "C(age_cat)[T.[41, 60]]    -1.5625      0.177     -8.829      0.000      -1.909      -1.216\n",
            "C(age_cat)[T.[61, 80]]     0.5646      0.190      2.978      0.003       0.193       0.936\n",
            "C(age_cat)[T.[80+]]        0.7616      0.255      2.991      0.003       0.263       1.261\n",
            "C(marital)[T.married]      0.0216      0.055      0.396      0.692      -0.085       0.128\n",
            "C(marital)[T.single]       0.4306      0.060      7.227      0.000       0.314       0.547\n",
            "C(marital)[T.unknown]      0.4844      0.323      1.501      0.133      -0.148       1.117\n",
            "==========================================================================================\n"
          ],
          "name": "stdout"
        }
      ]
    },
    {
      "cell_type": "markdown",
      "metadata": {
        "id": "g0nmgkyaF4cL",
        "colab_type": "text"
      },
      "source": [
        "The model summary shows the coefficients, standard error, the associated z-score, and the 95% confidence intervals. We interpret the results as follows, the overall model is significant indicated by a LLR p-value < 0.05 (4.734e-203) which allows us to look at the rest of the results. Except marital status in arried and unknown are not significant, all other independent variables have a significant effect on the log odds of conversion as indicated by individual P values < 0.05.\n",
        "\n",
        "> age group\n",
        "<br>Since group [0, 20] was dropped from the analysis, it is the comparison group and plays an important role in interpreting the other categories. For example, if a customer from [21, 40] age group compared to a customer from [0, 20] age group, there is a -1.4654 decrease in the log odds of conversion; if a customer from [41, 60] group compared to a [0, 20] group, there is a -1.5625 decrease in the log odds of conversion\n",
        "\n",
        ">marital\n",
        "<br>marital group uses 'divorce' group as reference group. Each other group has a higher log odds of conversion in comparison.\n",
        "\n",
        "For easier interpretation, we can convert the log odds to probabilities of convertion.\n"
      ]
    },
    {
      "cell_type": "code",
      "metadata": {
        "id": "TbP3-OmrKs2d",
        "colab_type": "code",
        "colab": {
          "base_uri": "https://localhost:8080/",
          "height": 288
        },
        "outputId": "061b21a3-e152-41a7-c30b-f86b21cefad6"
      },
      "source": [
        "coefs = pd.DataFrame(np.exp(model.params), columns=['coef.%'])\n",
        "coefs/(1+coefs)"
      ],
      "execution_count": 83,
      "outputs": [
        {
          "output_type": "execute_result",
          "data": {
            "text/html": [
              "<div>\n",
              "<style scoped>\n",
              "    .dataframe tbody tr th:only-of-type {\n",
              "        vertical-align: middle;\n",
              "    }\n",
              "\n",
              "    .dataframe tbody tr th {\n",
              "        vertical-align: top;\n",
              "    }\n",
              "\n",
              "    .dataframe thead th {\n",
              "        text-align: right;\n",
              "    }\n",
              "</style>\n",
              "<table border=\"1\" class=\"dataframe\">\n",
              "  <thead>\n",
              "    <tr style=\"text-align: right;\">\n",
              "      <th></th>\n",
              "      <th>coef.%</th>\n",
              "    </tr>\n",
              "  </thead>\n",
              "  <tbody>\n",
              "    <tr>\n",
              "      <th>Intercept</th>\n",
              "      <td>0.309257</td>\n",
              "    </tr>\n",
              "    <tr>\n",
              "      <th>C(age_cat)[T.[21, 40]]</th>\n",
              "      <td>0.187665</td>\n",
              "    </tr>\n",
              "    <tr>\n",
              "      <th>C(age_cat)[T.[41, 60]]</th>\n",
              "      <td>0.173286</td>\n",
              "    </tr>\n",
              "    <tr>\n",
              "      <th>C(age_cat)[T.[61, 80]]</th>\n",
              "      <td>0.637523</td>\n",
              "    </tr>\n",
              "    <tr>\n",
              "      <th>C(age_cat)[T.[80+]]</th>\n",
              "      <td>0.681697</td>\n",
              "    </tr>\n",
              "    <tr>\n",
              "      <th>C(marital)[T.married]</th>\n",
              "      <td>0.505400</td>\n",
              "    </tr>\n",
              "    <tr>\n",
              "      <th>C(marital)[T.single]</th>\n",
              "      <td>0.606013</td>\n",
              "    </tr>\n",
              "    <tr>\n",
              "      <th>C(marital)[T.unknown]</th>\n",
              "      <td>0.618794</td>\n",
              "    </tr>\n",
              "  </tbody>\n",
              "</table>\n",
              "</div>"
            ],
            "text/plain": [
              "                          coef.%\n",
              "Intercept               0.309257\n",
              "C(age_cat)[T.[21, 40]]  0.187665\n",
              "C(age_cat)[T.[41, 60]]  0.173286\n",
              "C(age_cat)[T.[61, 80]]  0.637523\n",
              "C(age_cat)[T.[80+]]     0.681697\n",
              "C(marital)[T.married]   0.505400\n",
              "C(marital)[T.single]    0.606013\n",
              "C(marital)[T.unknown]   0.618794"
            ]
          },
          "metadata": {
            "tags": []
          },
          "execution_count": 83
        }
      ]
    },
    {
      "cell_type": "markdown",
      "metadata": {
        "id": "Rkcd70Y4LxiV",
        "colab_type": "text"
      },
      "source": [
        "Still interpreting the results in comparison to the group that was dropped. Customers from [21, 40] compared to customer from [0, 20] are 18.8% as likely to be converted; customers from [61+] compared to [0, 20] are over 63% as likely to be converted.\n",
        "\n",
        "For the marriage status, compared to 'devorce' status, all other marriage status are over half likely to get converted.\n",
        "\n",
        "Obviously, with only two categorical variables are not likely to get the best model. The `Pseudo R-squ.` at 0.03311 is not explaning much of the data. We can select more indepdent variables to check if it will improve the model."
      ]
    },
    {
      "cell_type": "code",
      "metadata": {
        "id": "dSAV00uCNHsA",
        "colab_type": "code",
        "colab": {
          "base_uri": "https://localhost:8080/",
          "height": 563
        },
        "outputId": "0a9326ad-a803-4a27-a80c-0e89293ce6fc"
      },
      "source": [
        "model2 = smf.logit(formula='conversion~age+pdays+euribor3m+C(education)+C(marital)', data=marketing).fit()\n",
        "print(model2.summary())"
      ],
      "execution_count": 85,
      "outputs": [
        {
          "output_type": "stream",
          "text": [
            "Optimization terminated successfully.\n",
            "         Current function value: 0.293006\n",
            "         Iterations 7\n",
            "                           Logit Regression Results                           \n",
            "==============================================================================\n",
            "Dep. Variable:             conversion   No. Observations:                41188\n",
            "Model:                          Logit   Df Residuals:                    41174\n",
            "Method:                           MLE   Df Model:                           13\n",
            "Date:                Sun, 23 Feb 2020   Pseudo R-squ.:                  0.1677\n",
            "Time:                        21:11:18   Log-Likelihood:                -12068.\n",
            "converged:                       True   LL-Null:                       -14499.\n",
            "Covariance Type:            nonrobust   LLR p-value:                     0.000\n",
            "=======================================================================================================\n",
            "                                          coef    std err          z      P>|z|      [0.025      0.975]\n",
            "-------------------------------------------------------------------------------------------------------\n",
            "Intercept                               0.2959      0.132      2.237      0.025       0.037       0.555\n",
            "C(education)[T.basic.6y]               -0.0756      0.099     -0.763      0.446      -0.270       0.119\n",
            "C(education)[T.basic.9y]               -0.1698      0.078     -2.190      0.029      -0.322      -0.018\n",
            "C(education)[T.high.school]             0.0626      0.069      0.904      0.366      -0.073       0.198\n",
            "C(education)[T.illiterate]              0.9472      0.644      1.471      0.141      -0.315       2.210\n",
            "C(education)[T.professional.course]     0.1652      0.075      2.200      0.028       0.018       0.312\n",
            "C(education)[T.university.degree]       0.2934      0.066      4.468      0.000       0.165       0.422\n",
            "C(education)[T.unknown]                 0.2964      0.096      3.102      0.002       0.109       0.484\n",
            "C(marital)[T.married]                   0.0427      0.058      0.739      0.460      -0.070       0.156\n",
            "C(marital)[T.single]                    0.2538      0.065      3.916      0.000       0.127       0.381\n",
            "C(marital)[T.unknown]                   0.2310      0.351      0.659      0.510      -0.456       0.918\n",
            "age                                     0.0110      0.002      6.542      0.000       0.008       0.014\n",
            "pdays                                  -0.0018   5.97e-05    -30.710      0.000      -0.002      -0.002\n",
            "euribor3m                              -0.4446      0.010    -44.219      0.000      -0.464      -0.425\n",
            "=======================================================================================================\n"
          ],
          "name": "stdout"
        }
      ]
    },
    {
      "cell_type": "markdown",
      "metadata": {
        "id": "_wdC5Mk25Da8",
        "colab_type": "text"
      },
      "source": [
        "The model with LLR p-value less than 0.05 indicates the model is statistical significant. From the coef of each paramters, education with basic level are negatively correlated with log odds, the same as pdays, and euribor3m. Other parameters are positively correlated to log odds. Few categorical variables levels are not significant with p value greater than 0.05, while the three numerical variables are all significant. We also see the R-squ has improved greatly from 0.03 to 0.168 by adding these few parameters. For next step, we can consider to remove the non significant parameters, and add more new parameters to check if the model improves and have clear explanation to the response variable."
      ]
    },
    {
      "cell_type": "code",
      "metadata": {
        "id": "i4pa_ZDY5C3K",
        "colab_type": "code",
        "colab": {}
      },
      "source": [
        ""
      ],
      "execution_count": 0,
      "outputs": []
    },
    {
      "cell_type": "code",
      "metadata": {
        "id": "S3cYdrnY4oDT",
        "colab_type": "code",
        "colab": {}
      },
      "source": [
        ""
      ],
      "execution_count": 0,
      "outputs": []
    }
  ]
}