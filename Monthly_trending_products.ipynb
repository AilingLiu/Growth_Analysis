{
  "nbformat": 4,
  "nbformat_minor": 0,
  "metadata": {
    "colab": {
      "name": "Monthly_trending_products.ipynb",
      "provenance": [],
      "collapsed_sections": [],
      "authorship_tag": "ABX9TyOafBgRpFXN4GAq4YGkxDru",
      "include_colab_link": true
    },
    "kernelspec": {
      "name": "python3",
      "display_name": "Python 3"
    },
    "widgets": {
      "application/vnd.jupyter.widget-state+json": {
        "c6bad3d9003243b29833d6c45d9ee1ba": {
          "model_module": "@jupyter-widgets/controls",
          "model_name": "VBoxModel",
          "state": {
            "_view_name": "VBoxView",
            "_dom_classes": [
              "widget-interact"
            ],
            "_model_name": "VBoxModel",
            "_view_module": "@jupyter-widgets/controls",
            "_model_module_version": "1.5.0",
            "_view_count": null,
            "_view_module_version": "1.5.0",
            "box_style": "",
            "layout": "IPY_MODEL_91b6e2adb7954ce9adfaa180b06ada2b",
            "_model_module": "@jupyter-widgets/controls",
            "children": [
              "IPY_MODEL_ddc5c542ea134350ab8b9e7729e509cc",
              "IPY_MODEL_7512d6ad50254f4ba043a30222a5efc0"
            ]
          }
        },
        "91b6e2adb7954ce9adfaa180b06ada2b": {
          "model_module": "@jupyter-widgets/base",
          "model_name": "LayoutModel",
          "state": {
            "_view_name": "LayoutView",
            "grid_template_rows": null,
            "right": null,
            "justify_content": null,
            "_view_module": "@jupyter-widgets/base",
            "overflow": null,
            "_model_module_version": "1.2.0",
            "_view_count": null,
            "flex_flow": null,
            "width": null,
            "min_width": null,
            "border": null,
            "align_items": null,
            "bottom": null,
            "_model_module": "@jupyter-widgets/base",
            "top": null,
            "grid_column": null,
            "overflow_y": null,
            "overflow_x": null,
            "grid_auto_flow": null,
            "grid_area": null,
            "grid_template_columns": null,
            "flex": null,
            "_model_name": "LayoutModel",
            "justify_items": null,
            "grid_row": null,
            "max_height": null,
            "align_content": null,
            "visibility": null,
            "align_self": null,
            "height": null,
            "min_height": null,
            "padding": null,
            "grid_auto_rows": null,
            "grid_gap": null,
            "max_width": null,
            "order": null,
            "_view_module_version": "1.2.0",
            "grid_template_areas": null,
            "object_position": null,
            "object_fit": null,
            "grid_auto_columns": null,
            "margin": null,
            "display": null,
            "left": null
          }
        },
        "ddc5c542ea134350ab8b9e7729e509cc": {
          "model_module": "@jupyter-widgets/controls",
          "model_name": "DropdownModel",
          "state": {
            "_options_labels": [
              "84077",
              "21212",
              "85123A",
              "22834",
              "22197",
              "23166",
              "37413",
              "21108",
              "22053",
              "22693",
              "85099B",
              "22616",
              "84988",
              "22440",
              "15036",
              "21977",
              "17003",
              "84568",
              "18007",
              "23343",
              "84879",
              "23203",
              "23199",
              "22952",
              "23084",
              "20971",
              "84826",
              "22086"
            ],
            "_view_name": "DropdownView",
            "style": "IPY_MODEL_e4b5b89e609a443ba505b5e447dd49f7",
            "_dom_classes": [],
            "description": "code",
            "_model_name": "DropdownModel",
            "index": 0,
            "_view_module": "@jupyter-widgets/controls",
            "_model_module_version": "1.5.0",
            "_view_count": null,
            "disabled": false,
            "_view_module_version": "1.5.0",
            "description_tooltip": null,
            "_model_module": "@jupyter-widgets/controls",
            "layout": "IPY_MODEL_7d7c0b2634d54c4e911014e2f446a6ab"
          }
        },
        "7512d6ad50254f4ba043a30222a5efc0": {
          "model_module": "@jupyter-widgets/output",
          "model_name": "OutputModel",
          "state": {
            "_view_name": "OutputView",
            "msg_id": "",
            "_dom_classes": [],
            "_model_name": "OutputModel",
            "outputs": [
              {
                "output_type": "display_data",
                "metadata": {
                  "tags": []
                },
                "image/png": "iVBORw0KGgoAAAANSUhEUgAAA7wAAAIICAYAAABNb+LgAAAABHNCSVQICAgIfAhkiAAAAAlwSFlz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\nTkSuQmCC\n",
                "text/plain": "<Figure size 1080x576 with 2 Axes>"
              }
            ],
            "_view_module": "@jupyter-widgets/output",
            "_model_module_version": "1.0.0",
            "_view_count": null,
            "_view_module_version": "1.0.0",
            "layout": "IPY_MODEL_59f30dae54f64ff7ae755496c72f00af",
            "_model_module": "@jupyter-widgets/output"
          }
        },
        "e4b5b89e609a443ba505b5e447dd49f7": {
          "model_module": "@jupyter-widgets/controls",
          "model_name": "DescriptionStyleModel",
          "state": {
            "_view_name": "StyleView",
            "_model_name": "DescriptionStyleModel",
            "description_width": "",
            "_view_module": "@jupyter-widgets/base",
            "_model_module_version": "1.5.0",
            "_view_count": null,
            "_view_module_version": "1.2.0",
            "_model_module": "@jupyter-widgets/controls"
          }
        },
        "7d7c0b2634d54c4e911014e2f446a6ab": {
          "model_module": "@jupyter-widgets/base",
          "model_name": "LayoutModel",
          "state": {
            "_view_name": "LayoutView",
            "grid_template_rows": null,
            "right": null,
            "justify_content": null,
            "_view_module": "@jupyter-widgets/base",
            "overflow": null,
            "_model_module_version": "1.2.0",
            "_view_count": null,
            "flex_flow": null,
            "width": null,
            "min_width": null,
            "border": null,
            "align_items": null,
            "bottom": null,
            "_model_module": "@jupyter-widgets/base",
            "top": null,
            "grid_column": null,
            "overflow_y": null,
            "overflow_x": null,
            "grid_auto_flow": null,
            "grid_area": null,
            "grid_template_columns": null,
            "flex": null,
            "_model_name": "LayoutModel",
            "justify_items": null,
            "grid_row": null,
            "max_height": null,
            "align_content": null,
            "visibility": null,
            "align_self": null,
            "height": null,
            "min_height": null,
            "padding": null,
            "grid_auto_rows": null,
            "grid_gap": null,
            "max_width": null,
            "order": null,
            "_view_module_version": "1.2.0",
            "grid_template_areas": null,
            "object_position": null,
            "object_fit": null,
            "grid_auto_columns": null,
            "margin": null,
            "display": null,
            "left": null
          }
        }
      }
    }
  },
  "cells": [
    {
      "cell_type": "markdown",
      "metadata": {
        "id": "view-in-github",
        "colab_type": "text"
      },
      "source": [
        "<a href=\"https://colab.research.google.com/github/AilingLiu/Growth_Analysis/blob/master/Monthly_trending_products.ipynb\" target=\"_parent\"><img src=\"https://colab.research.google.com/assets/colab-badge.svg\" alt=\"Open In Colab\"/></a>"
      ]
    },
    {
      "cell_type": "code",
      "metadata": {
        "id": "AKJ-cl-ZQtkZ",
        "colab_type": "code",
        "colab": {}
      },
      "source": [
        "import numpy as np\n",
        "import pandas as pd\n",
        "import matplotlib.pyplot as plt\n",
        "import seaborn as sns\n",
        "import scipy.stats as st\n",
        "import statsmodels.api as sm\n",
        "import warnings\n",
        "warnings.filterwarnings(action=\"ignore\")"
      ],
      "execution_count": 0,
      "outputs": []
    },
    {
      "cell_type": "code",
      "metadata": {
        "id": "A2qcDcA-Qvfw",
        "colab_type": "code",
        "colab": {
          "base_uri": "https://localhost:8080/",
          "height": 198
        },
        "outputId": "542db54c-133c-4a10-ff30-d13b821d6751"
      },
      "source": [
        "url='https://github.com/AilingLiu/Growth_Analysis/blob/master/Data/online_retail.csv?raw=true'\n",
        "retail = pd.read_csv(url, encoding = 'unicode_escape')\n",
        "retail['InvoiceDate']=pd.to_datetime(retail['InvoiceDate'])\n",
        "retail['Payment'] = retail['Quantity'] * retail['UnitPrice']\n",
        "retail.head()"
      ],
      "execution_count": 2,
      "outputs": [
        {
          "output_type": "execute_result",
          "data": {
            "text/html": [
              "<div>\n",
              "<style scoped>\n",
              "    .dataframe tbody tr th:only-of-type {\n",
              "        vertical-align: middle;\n",
              "    }\n",
              "\n",
              "    .dataframe tbody tr th {\n",
              "        vertical-align: top;\n",
              "    }\n",
              "\n",
              "    .dataframe thead th {\n",
              "        text-align: right;\n",
              "    }\n",
              "</style>\n",
              "<table border=\"1\" class=\"dataframe\">\n",
              "  <thead>\n",
              "    <tr style=\"text-align: right;\">\n",
              "      <th></th>\n",
              "      <th>InvoiceNo</th>\n",
              "      <th>StockCode</th>\n",
              "      <th>Description</th>\n",
              "      <th>Quantity</th>\n",
              "      <th>InvoiceDate</th>\n",
              "      <th>UnitPrice</th>\n",
              "      <th>CustomerID</th>\n",
              "      <th>Country</th>\n",
              "      <th>Payment</th>\n",
              "    </tr>\n",
              "  </thead>\n",
              "  <tbody>\n",
              "    <tr>\n",
              "      <th>0</th>\n",
              "      <td>536365</td>\n",
              "      <td>85123A</td>\n",
              "      <td>WHITE HANGING HEART T-LIGHT HOLDER</td>\n",
              "      <td>6</td>\n",
              "      <td>2010-12-01 08:26:00</td>\n",
              "      <td>2.55</td>\n",
              "      <td>17850.0</td>\n",
              "      <td>United Kingdom</td>\n",
              "      <td>15.30</td>\n",
              "    </tr>\n",
              "    <tr>\n",
              "      <th>1</th>\n",
              "      <td>536365</td>\n",
              "      <td>71053</td>\n",
              "      <td>WHITE METAL LANTERN</td>\n",
              "      <td>6</td>\n",
              "      <td>2010-12-01 08:26:00</td>\n",
              "      <td>3.39</td>\n",
              "      <td>17850.0</td>\n",
              "      <td>United Kingdom</td>\n",
              "      <td>20.34</td>\n",
              "    </tr>\n",
              "    <tr>\n",
              "      <th>2</th>\n",
              "      <td>536365</td>\n",
              "      <td>84406B</td>\n",
              "      <td>CREAM CUPID HEARTS COAT HANGER</td>\n",
              "      <td>8</td>\n",
              "      <td>2010-12-01 08:26:00</td>\n",
              "      <td>2.75</td>\n",
              "      <td>17850.0</td>\n",
              "      <td>United Kingdom</td>\n",
              "      <td>22.00</td>\n",
              "    </tr>\n",
              "    <tr>\n",
              "      <th>3</th>\n",
              "      <td>536365</td>\n",
              "      <td>84029G</td>\n",
              "      <td>KNITTED UNION FLAG HOT WATER BOTTLE</td>\n",
              "      <td>6</td>\n",
              "      <td>2010-12-01 08:26:00</td>\n",
              "      <td>3.39</td>\n",
              "      <td>17850.0</td>\n",
              "      <td>United Kingdom</td>\n",
              "      <td>20.34</td>\n",
              "    </tr>\n",
              "    <tr>\n",
              "      <th>4</th>\n",
              "      <td>536365</td>\n",
              "      <td>84029E</td>\n",
              "      <td>RED WOOLLY HOTTIE WHITE HEART.</td>\n",
              "      <td>6</td>\n",
              "      <td>2010-12-01 08:26:00</td>\n",
              "      <td>3.39</td>\n",
              "      <td>17850.0</td>\n",
              "      <td>United Kingdom</td>\n",
              "      <td>20.34</td>\n",
              "    </tr>\n",
              "  </tbody>\n",
              "</table>\n",
              "</div>"
            ],
            "text/plain": [
              "  InvoiceNo StockCode  ...         Country  Payment\n",
              "0    536365    85123A  ...  United Kingdom    15.30\n",
              "1    536365     71053  ...  United Kingdom    20.34\n",
              "2    536365    84406B  ...  United Kingdom    22.00\n",
              "3    536365    84029G  ...  United Kingdom    20.34\n",
              "4    536365    84029E  ...  United Kingdom    20.34\n",
              "\n",
              "[5 rows x 9 columns]"
            ]
          },
          "metadata": {
            "tags": []
          },
          "execution_count": 2
        }
      ]
    },
    {
      "cell_type": "code",
      "metadata": {
        "id": "aNw8fwyWQ_f_",
        "colab_type": "code",
        "colab": {}
      },
      "source": [
        "retail['InvoiceYM'] = retail['InvoiceDate'].apply(lambda x: x.strftime('%Y%m'))\n",
        "df = retail.loc[(retail['Quantity']>0) &(retail['InvoiceYM']!='201112')] #filter out the negative(canceled) quantity"
      ],
      "execution_count": 0,
      "outputs": []
    },
    {
      "cell_type": "code",
      "metadata": {
        "id": "VFX3rLtSSAet",
        "colab_type": "code",
        "colab": {}
      },
      "source": [
        "trending = df.groupby(['InvoiceYM', 'StockCode']).agg({'Quantity': {'UnitsSold': 'sum'},\n",
        "                                                'Payment': {'TotalSale':'sum'}}).droplevel(level=0, axis=1).reset_index() # we sort by first quantity, then tota sale if quantity is equal\n",
        "\n",
        "topFive = trending.groupby(['InvoiceYM']).apply(lambda sf: sf.nlargest(5, columns=['UnitsSold', 'TotalSale'])).drop(columns=['InvoiceYM'])"
      ],
      "execution_count": 0,
      "outputs": []
    },
    {
      "cell_type": "markdown",
      "metadata": {
        "id": "mwkDjcDChPw-",
        "colab_type": "text"
      },
      "source": [
        "Here our trendy products are defined as the most bought items, regardless of its price. In reality, we should segment the most bought items from low to high price (or net revenue) category, so marketing team can design price strategy according to different product category. "
      ]
    },
    {
      "cell_type": "code",
      "metadata": {
        "id": "T2tsl-QrgBRL",
        "colab_type": "code",
        "colab": {
          "base_uri": "https://localhost:8080/",
          "height": 228
        },
        "outputId": "7cf92a34-5e25-44c3-9742-cf813d2514ec"
      },
      "source": [
        "topFive = topFive.droplevel(level=1, axis=0)\n",
        "topFive.loc['201103'] #example of top 5 in 2011 March"
      ],
      "execution_count": 68,
      "outputs": [
        {
          "output_type": "execute_result",
          "data": {
            "text/html": [
              "<div>\n",
              "<style scoped>\n",
              "    .dataframe tbody tr th:only-of-type {\n",
              "        vertical-align: middle;\n",
              "    }\n",
              "\n",
              "    .dataframe tbody tr th {\n",
              "        vertical-align: top;\n",
              "    }\n",
              "\n",
              "    .dataframe thead th {\n",
              "        text-align: right;\n",
              "    }\n",
              "</style>\n",
              "<table border=\"1\" class=\"dataframe\">\n",
              "  <thead>\n",
              "    <tr style=\"text-align: right;\">\n",
              "      <th></th>\n",
              "      <th>StockCode</th>\n",
              "      <th>UnitsSold</th>\n",
              "      <th>TotalSale</th>\n",
              "    </tr>\n",
              "    <tr>\n",
              "      <th>InvoiceYM</th>\n",
              "      <th></th>\n",
              "      <th></th>\n",
              "      <th></th>\n",
              "    </tr>\n",
              "  </thead>\n",
              "  <tbody>\n",
              "    <tr>\n",
              "      <th>201103</th>\n",
              "      <td>85099B</td>\n",
              "      <td>5282</td>\n",
              "      <td>10118.38</td>\n",
              "    </tr>\n",
              "    <tr>\n",
              "      <th>201103</th>\n",
              "      <td>21212</td>\n",
              "      <td>3975</td>\n",
              "      <td>2293.53</td>\n",
              "    </tr>\n",
              "    <tr>\n",
              "      <th>201103</th>\n",
              "      <td>84077</td>\n",
              "      <td>3888</td>\n",
              "      <td>943.20</td>\n",
              "    </tr>\n",
              "    <tr>\n",
              "      <th>201103</th>\n",
              "      <td>22616</td>\n",
              "      <td>3645</td>\n",
              "      <td>1014.69</td>\n",
              "    </tr>\n",
              "    <tr>\n",
              "      <th>201103</th>\n",
              "      <td>84988</td>\n",
              "      <td>3635</td>\n",
              "      <td>925.74</td>\n",
              "    </tr>\n",
              "  </tbody>\n",
              "</table>\n",
              "</div>"
            ],
            "text/plain": [
              "          StockCode  UnitsSold  TotalSale\n",
              "InvoiceYM                                \n",
              "201103       85099B       5282   10118.38\n",
              "201103        21212       3975    2293.53\n",
              "201103        84077       3888     943.20\n",
              "201103        22616       3645    1014.69\n",
              "201103        84988       3635     925.74"
            ]
          },
          "metadata": {
            "tags": []
          },
          "execution_count": 68
        }
      ]
    },
    {
      "cell_type": "code",
      "metadata": {
        "id": "hCgF5NTmT5Zf",
        "colab_type": "code",
        "colab": {
          "base_uri": "https://localhost:8080/",
          "height": 108
        },
        "outputId": "36f1ae29-0afb-41b1-9372-c4df49b65b6e"
      },
      "source": [
        "top5Prod = topFive.loc['201012':'201111'].StockCode.unique() #the the top 5 products from December 2010 to November 2011.\n",
        "top5Prod"
      ],
      "execution_count": 69,
      "outputs": [
        {
          "output_type": "execute_result",
          "data": {
            "text/plain": [
              "array(['84077', '21212', '85123A', '22834', '22197', '23166', '37413',\n",
              "       '21108', '22053', '22693', '85099B', '22616', '84988', '22440',\n",
              "       '15036', '21977', '17003', '84568', '18007', '23343', '84879',\n",
              "       '23203', '23199', '22952', '23084', '20971', '84826', '22086'],\n",
              "      dtype=object)"
            ]
          },
          "metadata": {
            "tags": []
          },
          "execution_count": 69
        }
      ]
    },
    {
      "cell_type": "markdown",
      "metadata": {
        "id": "-VhvmMgFk6AX",
        "colab_type": "text"
      },
      "source": [
        "Let's make an interactive plot where users can choose one of the listed top5 products as above and see its sales among the year. \n",
        "Note: Interactive plot is not supported in GitHub. Open in Colab or download in your jupyter notebook for view."
      ]
    },
    {
      "cell_type": "code",
      "metadata": {
        "id": "vIt2duGaUvIE",
        "colab_type": "code",
        "colab": {
          "base_uri": "https://localhost:8080/",
          "height": 587,
          "referenced_widgets": [
            "c6bad3d9003243b29833d6c45d9ee1ba",
            "91b6e2adb7954ce9adfaa180b06ada2b",
            "ddc5c542ea134350ab8b9e7729e509cc",
            "7512d6ad50254f4ba043a30222a5efc0",
            "e4b5b89e609a443ba505b5e447dd49f7",
            "7d7c0b2634d54c4e911014e2f446a6ab"
          ]
        },
        "outputId": "8919dd09-30fa-46cc-8c37-59cf1b3b725e"
      },
      "source": [
        "def UnitsSold(code, data=df):\n",
        "  return data.loc[data['StockCode']==code].groupby(['InvoiceYM'])\\\n",
        "  .agg({'Quantity': {'UnitsSold': 'sum'}, 'Payment': {'TotalSale': 'sum'}})\\\n",
        "  .droplevel(level=0, axis=1)\n",
        "\n",
        "def VizProdSales(code, data=df):\n",
        "\n",
        "  table = UnitsSold(code)\n",
        "  \n",
        "  ax1 = table.loc[:, 'UnitsSold'].plot(kind='line', \n",
        "                                      grid=True, \n",
        "                                      figsize=(15, 8), \n",
        "                                      title='Sales of Product ' + code, \n",
        "                                      rot=45)\n",
        "\n",
        "  ax2 = table.loc[:, 'TotalSale'].plot(kind='bar', \n",
        "                                      alpha=0.2, \n",
        "                                      color='teal', \n",
        "                                      secondary_y=True, \n",
        "                                      rot=45)\n",
        "\n",
        "  ax1.legend(['UnitsSales'], loc='upper left')\n",
        "  ax1.set_ylabel('Units', fontdict={'fontsize': 12, 'fontweight': 'medium'})\n",
        "  ax1.set_ylim(0, table.loc[:, 'UnitsSold'].max()*1.2)\n",
        "\n",
        "  ax2.legend(['SalesAmount'], loc='upper right')\n",
        "  ax2.set_ylabel('Revenue($)', fontdict={'fontsize': 12, 'fontweight': 'medium'})\n",
        "  ax2.set_ylim(0, table.loc[:, 'TotalSale'].max()*1.2)\n",
        "  plt.show()\n",
        "\n",
        "from ipywidgets import interact, fixed\n",
        "interact(VizProdSales, code=top5Prod, data=fixed(df))"
      ],
      "execution_count": 95,
      "outputs": [
        {
          "output_type": "display_data",
          "data": {
            "application/vnd.jupyter.widget-view+json": {
              "model_id": "c6bad3d9003243b29833d6c45d9ee1ba",
              "version_minor": 0,
              "version_major": 2
            },
            "text/plain": [
              "interactive(children=(Dropdown(description='code', options=('84077', '21212', '85123A', '22834', '22197', '231…"
            ]
          },
          "metadata": {
            "tags": []
          }
        },
        {
          "output_type": "execute_result",
          "data": {
            "text/plain": [
              "<function __main__.VizProdSales>"
            ]
          },
          "metadata": {
            "tags": []
          },
          "execution_count": 95
        }
      ]
    },
    {
      "cell_type": "code",
      "metadata": {
        "id": "VBExYMVuorqn",
        "colab_type": "code",
        "colab": {
          "base_uri": "https://localhost:8080/",
          "height": 198
        },
        "outputId": "a8561e65-3d62-43df-d3cb-47ca34eb3152"
      },
      "source": [
        "df.loc[(df.StockCode=='84826') & (df.InvoiceYM=='201111')]"
      ],
      "execution_count": 94,
      "outputs": [
        {
          "output_type": "execute_result",
          "data": {
            "text/html": [
              "<div>\n",
              "<style scoped>\n",
              "    .dataframe tbody tr th:only-of-type {\n",
              "        vertical-align: middle;\n",
              "    }\n",
              "\n",
              "    .dataframe tbody tr th {\n",
              "        vertical-align: top;\n",
              "    }\n",
              "\n",
              "    .dataframe thead th {\n",
              "        text-align: right;\n",
              "    }\n",
              "</style>\n",
              "<table border=\"1\" class=\"dataframe\">\n",
              "  <thead>\n",
              "    <tr style=\"text-align: right;\">\n",
              "      <th></th>\n",
              "      <th>InvoiceNo</th>\n",
              "      <th>StockCode</th>\n",
              "      <th>Description</th>\n",
              "      <th>Quantity</th>\n",
              "      <th>InvoiceDate</th>\n",
              "      <th>UnitPrice</th>\n",
              "      <th>CustomerID</th>\n",
              "      <th>Country</th>\n",
              "      <th>Payment</th>\n",
              "      <th>InvoiceYM</th>\n",
              "    </tr>\n",
              "  </thead>\n",
              "  <tbody>\n",
              "    <tr>\n",
              "      <th>452377</th>\n",
              "      <td>575336</td>\n",
              "      <td>84826</td>\n",
              "      <td>ASSTD DESIGN 3D PAPER STICKERS</td>\n",
              "      <td>4</td>\n",
              "      <td>2011-11-09 13:58:00</td>\n",
              "      <td>0.85</td>\n",
              "      <td>14968.0</td>\n",
              "      <td>United Kingdom</td>\n",
              "      <td>3.40</td>\n",
              "      <td>201111</td>\n",
              "    </tr>\n",
              "    <tr>\n",
              "      <th>452421</th>\n",
              "      <td>575337</td>\n",
              "      <td>84826</td>\n",
              "      <td>ASSTD DESIGN 3D PAPER STICKERS</td>\n",
              "      <td>5</td>\n",
              "      <td>2011-11-09 14:11:00</td>\n",
              "      <td>0.85</td>\n",
              "      <td>17867.0</td>\n",
              "      <td>United Kingdom</td>\n",
              "      <td>4.25</td>\n",
              "      <td>201111</td>\n",
              "    </tr>\n",
              "    <tr>\n",
              "      <th>452454</th>\n",
              "      <td>575337</td>\n",
              "      <td>84826</td>\n",
              "      <td>ASSTD DESIGN 3D PAPER STICKERS</td>\n",
              "      <td>1</td>\n",
              "      <td>2011-11-09 14:11:00</td>\n",
              "      <td>0.85</td>\n",
              "      <td>17867.0</td>\n",
              "      <td>United Kingdom</td>\n",
              "      <td>0.85</td>\n",
              "      <td>201111</td>\n",
              "    </tr>\n",
              "    <tr>\n",
              "      <th>458281</th>\n",
              "      <td>575767</td>\n",
              "      <td>84826</td>\n",
              "      <td>ASSTD DESIGN 3D PAPER STICKERS</td>\n",
              "      <td>1</td>\n",
              "      <td>2011-11-11 11:11:00</td>\n",
              "      <td>0.85</td>\n",
              "      <td>17348.0</td>\n",
              "      <td>United Kingdom</td>\n",
              "      <td>0.85</td>\n",
              "      <td>201111</td>\n",
              "    </tr>\n",
              "    <tr>\n",
              "      <th>502122</th>\n",
              "      <td>578841</td>\n",
              "      <td>84826</td>\n",
              "      <td>ASSTD DESIGN 3D PAPER STICKERS</td>\n",
              "      <td>12540</td>\n",
              "      <td>2011-11-25 15:57:00</td>\n",
              "      <td>0.00</td>\n",
              "      <td>13256.0</td>\n",
              "      <td>United Kingdom</td>\n",
              "      <td>0.00</td>\n",
              "      <td>201111</td>\n",
              "    </tr>\n",
              "  </tbody>\n",
              "</table>\n",
              "</div>"
            ],
            "text/plain": [
              "       InvoiceNo StockCode  ... Payment  InvoiceYM\n",
              "452377    575336     84826  ...    3.40     201111\n",
              "452421    575337     84826  ...    4.25     201111\n",
              "452454    575337     84826  ...    0.85     201111\n",
              "458281    575767     84826  ...    0.85     201111\n",
              "502122    578841     84826  ...    0.00     201111\n",
              "\n",
              "[5 rows x 10 columns]"
            ]
          },
          "metadata": {
            "tags": []
          },
          "execution_count": 94
        }
      ]
    },
    {
      "cell_type": "markdown",
      "metadata": {
        "id": "yfw70EUlxONG",
        "colab_type": "text"
      },
      "source": [
        "From the product 84826, it was sold almost zero items in the past 11 months, until it suddenly spikes in November, for over 10,000 units. Strangely, the revenue was not high at all. Looking further back at the data, we found this item was sold 12540 units on 2011-11-25, but UnitPrice was changed to 0, thus it only boost the unit sold amount but not the revenue. It might be company internal clean out of this item.\n",
        "\n",
        "Other top products demonstrate spikes in various months. Whether those fluctuation is seasonal effects or new business growth, we should further look back on previous years sales data to validate. \n",
        "\n",
        "The product trend is the key business driver. Marketing team can stimulate potential clients by recommending trending products, leading to higher conversion rate. Moreover, we should do the same to identify the monthly least bought products to improve sales.\n"
      ]
    },
    {
      "cell_type": "code",
      "metadata": {
        "id": "zMaxcXStzxiC",
        "colab_type": "code",
        "colab": {}
      },
      "source": [
        ""
      ],
      "execution_count": 0,
      "outputs": []
    }
  ]
}