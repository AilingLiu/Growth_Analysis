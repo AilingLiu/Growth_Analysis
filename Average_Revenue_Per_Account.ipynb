{
  "nbformat": 4,
  "nbformat_minor": 0,
  "metadata": {
    "colab": {
      "name": "Average Revenue Per Account.ipynb",
      "provenance": [],
      "collapsed_sections": [],
      "authorship_tag": "ABX9TyPCMnX6N6wUD8ns7pe2ZWqb",
      "include_colab_link": true
    },
    "kernelspec": {
      "name": "python3",
      "display_name": "Python 3"
    }
  },
  "cells": [
    {
      "cell_type": "markdown",
      "metadata": {
        "id": "view-in-github",
        "colab_type": "text"
      },
      "source": [
        "<a href=\"https://colab.research.google.com/github/AilingLiu/Growth_Analysis/blob/master/Average_Revenue_Per_Account.ipynb\" target=\"_parent\"><img src=\"https://colab.research.google.com/assets/colab-badge.svg\" alt=\"Open In Colab\"/></a>"
      ]
    },
    {
      "cell_type": "code",
      "metadata": {
        "id": "BzHQRJgLywqN",
        "colab_type": "code",
        "colab": {}
      },
      "source": [
        "import numpy as np\n",
        "import pandas as pd\n",
        "import matplotlib.pyplot as plt\n",
        "import seaborn as sns\n",
        "import scipy.stats as st\n",
        "import statsmodels.api as sm\n",
        "import warnings\n",
        "warnings.filterwarnings(action=\"ignore\")"
      ],
      "execution_count": 0,
      "outputs": []
    },
    {
      "cell_type": "markdown",
      "metadata": {
        "id": "l82hpdFWzCwA",
        "colab_type": "text"
      },
      "source": [
        "# Average Revenue Per Account"
      ]
    },
    {
      "cell_type": "code",
      "metadata": {
        "id": "jGasFEYXzB9u",
        "colab_type": "code",
        "outputId": "30321957-e15d-4640-913e-d7fa824446c2",
        "colab": {
          "base_uri": "https://localhost:8080/",
          "height": 198
        }
      },
      "source": [
        "url='https://github.com/AilingLiu/Growth_Analysis/blob/master/data.csv?raw=true'\n",
        "\n",
        "def load_data(link=url):\n",
        "  return pd.read_csv(url, encoding = 'unicode_escape')\n",
        "\n",
        "def add_features(df):\n",
        "\n",
        "  if not set(['InvoiceDate', 'CustomerID', 'Quantity', 'UnitPrice']) <= set(df.columns):\n",
        "    print('You do not have the needed columns.')\n",
        "    return df\n",
        "  \n",
        "  newdf = df.copy()\n",
        "  newdf['InvoiceDate']=pd.to_datetime(newdf['InvoiceDate'])\n",
        "  newdf['InvoiceYM']=newdf['InvoiceDate'].apply(lambda x: x.strftime('%Y%m'))\n",
        "  newdf['Revenue'] = newdf['UnitPrice'] * newdf['Quantity']\n",
        "  minyearmonth = newdf.groupby(['CustomerID'])['InvoiceDate'].min().apply(lambda x: x.strftime('%Y%m')).to_frame('MinYearMonth')\n",
        "  newdf=newdf.join(minyearmonth, on='CustomerID')\n",
        "  newdf['CustomerType'] = np.where(newdf['InvoiceYM'] == newdf['MinYearMonth'], 'New', 'Exist')\n",
        "  return newdf\n",
        "\n",
        "data = load_data()\n",
        "retail=add_features(data)\n",
        "retail.head()"
      ],
      "execution_count": 0,
      "outputs": [
        {
          "output_type": "execute_result",
          "data": {
            "text/html": [
              "<div>\n",
              "<style scoped>\n",
              "    .dataframe tbody tr th:only-of-type {\n",
              "        vertical-align: middle;\n",
              "    }\n",
              "\n",
              "    .dataframe tbody tr th {\n",
              "        vertical-align: top;\n",
              "    }\n",
              "\n",
              "    .dataframe thead th {\n",
              "        text-align: right;\n",
              "    }\n",
              "</style>\n",
              "<table border=\"1\" class=\"dataframe\">\n",
              "  <thead>\n",
              "    <tr style=\"text-align: right;\">\n",
              "      <th></th>\n",
              "      <th>InvoiceNo</th>\n",
              "      <th>StockCode</th>\n",
              "      <th>Description</th>\n",
              "      <th>Quantity</th>\n",
              "      <th>InvoiceDate</th>\n",
              "      <th>UnitPrice</th>\n",
              "      <th>CustomerID</th>\n",
              "      <th>Country</th>\n",
              "      <th>InvoiceYM</th>\n",
              "      <th>Revenue</th>\n",
              "      <th>MinYearMonth</th>\n",
              "      <th>CustomerType</th>\n",
              "    </tr>\n",
              "  </thead>\n",
              "  <tbody>\n",
              "    <tr>\n",
              "      <th>0</th>\n",
              "      <td>536365</td>\n",
              "      <td>85123A</td>\n",
              "      <td>WHITE HANGING HEART T-LIGHT HOLDER</td>\n",
              "      <td>6</td>\n",
              "      <td>2010-12-01 08:26:00</td>\n",
              "      <td>2.55</td>\n",
              "      <td>17850.0</td>\n",
              "      <td>United Kingdom</td>\n",
              "      <td>201012</td>\n",
              "      <td>15.30</td>\n",
              "      <td>201012</td>\n",
              "      <td>New</td>\n",
              "    </tr>\n",
              "    <tr>\n",
              "      <th>1</th>\n",
              "      <td>536365</td>\n",
              "      <td>71053</td>\n",
              "      <td>WHITE METAL LANTERN</td>\n",
              "      <td>6</td>\n",
              "      <td>2010-12-01 08:26:00</td>\n",
              "      <td>3.39</td>\n",
              "      <td>17850.0</td>\n",
              "      <td>United Kingdom</td>\n",
              "      <td>201012</td>\n",
              "      <td>20.34</td>\n",
              "      <td>201012</td>\n",
              "      <td>New</td>\n",
              "    </tr>\n",
              "    <tr>\n",
              "      <th>2</th>\n",
              "      <td>536365</td>\n",
              "      <td>84406B</td>\n",
              "      <td>CREAM CUPID HEARTS COAT HANGER</td>\n",
              "      <td>8</td>\n",
              "      <td>2010-12-01 08:26:00</td>\n",
              "      <td>2.75</td>\n",
              "      <td>17850.0</td>\n",
              "      <td>United Kingdom</td>\n",
              "      <td>201012</td>\n",
              "      <td>22.00</td>\n",
              "      <td>201012</td>\n",
              "      <td>New</td>\n",
              "    </tr>\n",
              "    <tr>\n",
              "      <th>3</th>\n",
              "      <td>536365</td>\n",
              "      <td>84029G</td>\n",
              "      <td>KNITTED UNION FLAG HOT WATER BOTTLE</td>\n",
              "      <td>6</td>\n",
              "      <td>2010-12-01 08:26:00</td>\n",
              "      <td>3.39</td>\n",
              "      <td>17850.0</td>\n",
              "      <td>United Kingdom</td>\n",
              "      <td>201012</td>\n",
              "      <td>20.34</td>\n",
              "      <td>201012</td>\n",
              "      <td>New</td>\n",
              "    </tr>\n",
              "    <tr>\n",
              "      <th>4</th>\n",
              "      <td>536365</td>\n",
              "      <td>84029E</td>\n",
              "      <td>RED WOOLLY HOTTIE WHITE HEART.</td>\n",
              "      <td>6</td>\n",
              "      <td>2010-12-01 08:26:00</td>\n",
              "      <td>3.39</td>\n",
              "      <td>17850.0</td>\n",
              "      <td>United Kingdom</td>\n",
              "      <td>201012</td>\n",
              "      <td>20.34</td>\n",
              "      <td>201012</td>\n",
              "      <td>New</td>\n",
              "    </tr>\n",
              "  </tbody>\n",
              "</table>\n",
              "</div>"
            ],
            "text/plain": [
              "  InvoiceNo StockCode  ... MinYearMonth  CustomerType\n",
              "0    536365    85123A  ...       201012           New\n",
              "1    536365     71053  ...       201012           New\n",
              "2    536365    84406B  ...       201012           New\n",
              "3    536365    84029G  ...       201012           New\n",
              "4    536365    84029E  ...       201012           New\n",
              "\n",
              "[5 rows x 12 columns]"
            ]
          },
          "metadata": {
            "tags": []
          },
          "execution_count": 32
        }
      ]
    },
    {
      "cell_type": "code",
      "metadata": {
        "id": "ktKXpGVP15zS",
        "colab_type": "code",
        "outputId": "d33d482a-d755-4018-a521-3381dfde67d1",
        "colab": {
          "base_uri": "https://localhost:8080/",
          "height": 468
        }
      },
      "source": [
        "gb = retail.groupby(['InvoiceYM'])\n",
        "arpa=gb.apply(lambda subf: subf['Revenue'].sum()/subf['CustomerID'].nunique()).to_frame('ARPA').round(0)\n",
        "arpa"
      ],
      "execution_count": 0,
      "outputs": [
        {
          "output_type": "execute_result",
          "data": {
            "text/html": [
              "<div>\n",
              "<style scoped>\n",
              "    .dataframe tbody tr th:only-of-type {\n",
              "        vertical-align: middle;\n",
              "    }\n",
              "\n",
              "    .dataframe tbody tr th {\n",
              "        vertical-align: top;\n",
              "    }\n",
              "\n",
              "    .dataframe thead th {\n",
              "        text-align: right;\n",
              "    }\n",
              "</style>\n",
              "<table border=\"1\" class=\"dataframe\">\n",
              "  <thead>\n",
              "    <tr style=\"text-align: right;\">\n",
              "      <th></th>\n",
              "      <th>ARPA</th>\n",
              "    </tr>\n",
              "    <tr>\n",
              "      <th>InvoiceYM</th>\n",
              "      <th></th>\n",
              "    </tr>\n",
              "  </thead>\n",
              "  <tbody>\n",
              "    <tr>\n",
              "      <th>201012</th>\n",
              "      <td>790.0</td>\n",
              "    </tr>\n",
              "    <tr>\n",
              "      <th>201101</th>\n",
              "      <td>715.0</td>\n",
              "    </tr>\n",
              "    <tr>\n",
              "      <th>201102</th>\n",
              "      <td>624.0</td>\n",
              "    </tr>\n",
              "    <tr>\n",
              "      <th>201103</th>\n",
              "      <td>670.0</td>\n",
              "    </tr>\n",
              "    <tr>\n",
              "      <th>201104</th>\n",
              "      <td>549.0</td>\n",
              "    </tr>\n",
              "    <tr>\n",
              "      <th>201105</th>\n",
              "      <td>670.0</td>\n",
              "    </tr>\n",
              "    <tr>\n",
              "      <th>201106</th>\n",
              "      <td>658.0</td>\n",
              "    </tr>\n",
              "    <tr>\n",
              "      <th>201107</th>\n",
              "      <td>686.0</td>\n",
              "    </tr>\n",
              "    <tr>\n",
              "      <th>201108</th>\n",
              "      <td>697.0</td>\n",
              "    </tr>\n",
              "    <tr>\n",
              "      <th>201109</th>\n",
              "      <td>783.0</td>\n",
              "    </tr>\n",
              "    <tr>\n",
              "      <th>201110</th>\n",
              "      <td>751.0</td>\n",
              "    </tr>\n",
              "    <tr>\n",
              "      <th>201111</th>\n",
              "      <td>854.0</td>\n",
              "    </tr>\n",
              "    <tr>\n",
              "      <th>201112</th>\n",
              "      <td>632.0</td>\n",
              "    </tr>\n",
              "  </tbody>\n",
              "</table>\n",
              "</div>"
            ],
            "text/plain": [
              "            ARPA\n",
              "InvoiceYM       \n",
              "201012     790.0\n",
              "201101     715.0\n",
              "201102     624.0\n",
              "201103     670.0\n",
              "201104     549.0\n",
              "201105     670.0\n",
              "201106     658.0\n",
              "201107     686.0\n",
              "201108     697.0\n",
              "201109     783.0\n",
              "201110     751.0\n",
              "201111     854.0\n",
              "201112     632.0"
            ]
          },
          "metadata": {
            "tags": []
          },
          "execution_count": 33
        }
      ]
    },
    {
      "cell_type": "code",
      "metadata": {
        "id": "dDh-julk5E6K",
        "colab_type": "code",
        "outputId": "f3e8b34d-942c-47e4-fc27-73a607bef7df",
        "colab": {
          "base_uri": "https://localhost:8080/",
          "height": 450
        }
      },
      "source": [
        "arpa.plot.bar(figsize=(14,6))\n",
        "plt.title('Average Revenue per Account')\n",
        "plt.xlabel('Month Year')"
      ],
      "execution_count": 0,
      "outputs": [
        {
          "output_type": "execute_result",
          "data": {
            "text/plain": [
              "Text(0.5, 0, 'Month Year')"
            ]
          },
          "metadata": {
            "tags": []
          },
          "execution_count": 29
        },
        {
          "output_type": "display_data",
          "data": {
            "image/png": "[encoded data removed]",
            "text/plain": [
              "<Figure size 1008x432 with 1 Axes>"
            ]
          },
          "metadata": {
            "tags": []
          }
        }
      ]
    },
    {
      "cell_type": "markdown",
      "metadata": {
        "id": "Gu8f4K_u4-_Q",
        "colab_type": "text"
      },
      "source": [
        "> Testing idea:\n",
        "<br> Assume our ARPA target of 2011 is 700. Did we meet our target in general? \n",
        "\n",
        "> Hypotheses:\n",
        "<br>$H_0$: The 2011 revenue has difference from the theoretical annual average revenue value\n",
        "<br>$H_a$: The 2011 revenue is lower than the theoretical value\n",
        "\n",
        "> Testing Method\n",
        "<br>One sample t test"
      ]
    },
    {
      "cell_type": "code",
      "metadata": {
        "id": "RkHeUmZ-4X9m",
        "colab_type": "code",
        "outputId": "aad6fc44-fa78-46df-a54e-7fd8a6147ced",
        "colab": {
          "base_uri": "https://localhost:8080/",
          "height": 35
        }
      },
      "source": [
        "tval,pval=st.ttest_1samp(arpa['ARPA'], 700)#the return pvalue is two sided\n",
        "pval/2 #we need the one side only according to our alternative hypothesis"
      ],
      "execution_count": 48,
      "outputs": [
        {
          "output_type": "execute_result",
          "data": {
            "text/plain": [
              "0.4718835453694634"
            ]
          },
          "metadata": {
            "tags": []
          },
          "execution_count": 48
        }
      ]
    },
    {
      "cell_type": "markdown",
      "metadata": {
        "id": "40upxaVDbaVD",
        "colab_type": "text"
      },
      "source": [
        "We cannot reject the null hypothesis with such large pvalue. It means the chance to obtain this data is 47.2%, which is quite likely. "
      ]
    }
  ]
}