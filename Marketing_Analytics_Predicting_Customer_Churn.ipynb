{
  "nbformat": 4,
  "nbformat_minor": 0,
  "metadata": {
    "colab": {
      "name": "Marketing Analytics: Predicting Customer Churn.ipynb",
      "provenance": [],
      "collapsed_sections": [],
      "authorship_tag": "ABX9TyP0lF+yDmm8802AbznfFYpG",
      "include_colab_link": true
    },
    "kernelspec": {
      "name": "python3",
      "display_name": "Python 3"
    }
  },
  "cells": [
    {
      "cell_type": "markdown",
      "metadata": {
        "id": "view-in-github",
        "colab_type": "text"
      },
      "source": [
        "<a href=\"https://colab.research.google.com/github/AilingLiu/Growth_Analysis/blob/master/Marketing_Analytics_Predicting_Customer_Churn.ipynb\" target=\"_parent\"><img src=\"https://colab.research.google.com/assets/colab-badge.svg\" alt=\"Open In Colab\"/></a>"
      ]
    },
    {
      "cell_type": "markdown",
      "metadata": {
        "id": "vTF1slpn2C1p",
        "colab_type": "text"
      },
      "source": [
        "Churn is when a customer stops doing business or ends a relationship with a company. It’s a common problem across a variety of industries, from telecommunications to cable TV to SaaS, and a company that can predict churn can take proactive action to retain valuable customers and get ahead of the competition. This project aims to create supervised model to predict customer churn. The data is available on [Kaggle](https://www.kaggle.com/c/telco-churn/data). This project follows the Marketing Analytics tracks on [DataCamp](https://learn.datacamp.com/courses/marketing-analytics-predicting-customer-churn-in-python)"
      ]
    },
    {
      "cell_type": "code",
      "metadata": {
        "id": "eZcCxo9PHRBh",
        "colab_type": "code",
        "colab": {
          "base_uri": "https://localhost:8080/",
          "height": 54
        },
        "outputId": "38f9736d-27d5-4f3c-95b4-0c7a68db0783"
      },
      "source": [
        "import pandas as pd\n",
        "import numpy as np\n",
        "import matplotlib.pyplot as plt\n",
        "import matplotlib as mpl\n",
        "import seaborn as sns"
      ],
      "execution_count": 1,
      "outputs": [
        {
          "output_type": "stream",
          "text": [
            "/usr/local/lib/python3.6/dist-packages/statsmodels/tools/_testing.py:19: FutureWarning: pandas.util.testing is deprecated. Use the functions in the public API at pandas.testing instead.\n",
            "  import pandas.util.testing as tm\n"
          ],
          "name": "stderr"
        }
      ]
    },
    {
      "cell_type": "code",
      "metadata": {
        "id": "I4G5EbXcHlrc",
        "colab_type": "code",
        "colab": {
          "base_uri": "https://localhost:8080/",
          "height": 210
        },
        "outputId": "e41d6dbf-70f7-4535-91f8-6bc1bf203d3f"
      },
      "source": [
        "data_url = 'https://raw.githubusercontent.com/AilingLiu/Growth_Analysis/master/Data/Churn.csv'\n",
        "telco = pd.read_csv(data_url)\n",
        "telco.head(3)"
      ],
      "execution_count": 56,
      "outputs": [
        {
          "output_type": "execute_result",
          "data": {
            "text/html": [
              "<div>\n",
              "<style scoped>\n",
              "    .dataframe tbody tr th:only-of-type {\n",
              "        vertical-align: middle;\n",
              "    }\n",
              "\n",
              "    .dataframe tbody tr th {\n",
              "        vertical-align: top;\n",
              "    }\n",
              "\n",
              "    .dataframe thead th {\n",
              "        text-align: right;\n",
              "    }\n",
              "</style>\n",
              "<table border=\"1\" class=\"dataframe\">\n",
              "  <thead>\n",
              "    <tr style=\"text-align: right;\">\n",
              "      <th></th>\n",
              "      <th>Account_Length</th>\n",
              "      <th>Vmail_Message</th>\n",
              "      <th>Day_Mins</th>\n",
              "      <th>Eve_Mins</th>\n",
              "      <th>Night_Mins</th>\n",
              "      <th>Intl_Mins</th>\n",
              "      <th>CustServ_Calls</th>\n",
              "      <th>Churn</th>\n",
              "      <th>Intl_Plan</th>\n",
              "      <th>Vmail_Plan</th>\n",
              "      <th>Day_Calls</th>\n",
              "      <th>Day_Charge</th>\n",
              "      <th>Eve_Calls</th>\n",
              "      <th>Eve_Charge</th>\n",
              "      <th>Night_Calls</th>\n",
              "      <th>Night_Charge</th>\n",
              "      <th>Intl_Calls</th>\n",
              "      <th>Intl_Charge</th>\n",
              "      <th>State</th>\n",
              "      <th>Area_Code</th>\n",
              "      <th>Phone</th>\n",
              "    </tr>\n",
              "  </thead>\n",
              "  <tbody>\n",
              "    <tr>\n",
              "      <th>0</th>\n",
              "      <td>128</td>\n",
              "      <td>25</td>\n",
              "      <td>265.1</td>\n",
              "      <td>197.4</td>\n",
              "      <td>244.7</td>\n",
              "      <td>10.0</td>\n",
              "      <td>1</td>\n",
              "      <td>no</td>\n",
              "      <td>no</td>\n",
              "      <td>yes</td>\n",
              "      <td>110</td>\n",
              "      <td>45.07</td>\n",
              "      <td>99</td>\n",
              "      <td>16.78</td>\n",
              "      <td>91</td>\n",
              "      <td>11.01</td>\n",
              "      <td>3</td>\n",
              "      <td>2.70</td>\n",
              "      <td>KS</td>\n",
              "      <td>415</td>\n",
              "      <td>382-4657</td>\n",
              "    </tr>\n",
              "    <tr>\n",
              "      <th>1</th>\n",
              "      <td>107</td>\n",
              "      <td>26</td>\n",
              "      <td>161.6</td>\n",
              "      <td>195.5</td>\n",
              "      <td>254.4</td>\n",
              "      <td>13.7</td>\n",
              "      <td>1</td>\n",
              "      <td>no</td>\n",
              "      <td>no</td>\n",
              "      <td>yes</td>\n",
              "      <td>123</td>\n",
              "      <td>27.47</td>\n",
              "      <td>103</td>\n",
              "      <td>16.62</td>\n",
              "      <td>103</td>\n",
              "      <td>11.45</td>\n",
              "      <td>3</td>\n",
              "      <td>3.70</td>\n",
              "      <td>OH</td>\n",
              "      <td>415</td>\n",
              "      <td>371-7191</td>\n",
              "    </tr>\n",
              "    <tr>\n",
              "      <th>2</th>\n",
              "      <td>137</td>\n",
              "      <td>0</td>\n",
              "      <td>243.4</td>\n",
              "      <td>121.2</td>\n",
              "      <td>162.6</td>\n",
              "      <td>12.2</td>\n",
              "      <td>0</td>\n",
              "      <td>no</td>\n",
              "      <td>no</td>\n",
              "      <td>no</td>\n",
              "      <td>114</td>\n",
              "      <td>41.38</td>\n",
              "      <td>110</td>\n",
              "      <td>10.30</td>\n",
              "      <td>104</td>\n",
              "      <td>7.32</td>\n",
              "      <td>5</td>\n",
              "      <td>3.29</td>\n",
              "      <td>NJ</td>\n",
              "      <td>415</td>\n",
              "      <td>358-1921</td>\n",
              "    </tr>\n",
              "  </tbody>\n",
              "</table>\n",
              "</div>"
            ],
            "text/plain": [
              "   Account_Length  Vmail_Message  Day_Mins  ...  State  Area_Code     Phone\n",
              "0             128             25     265.1  ...     KS        415  382-4657\n",
              "1             107             26     161.6  ...     OH        415  371-7191\n",
              "2             137              0     243.4  ...     NJ        415  358-1921\n",
              "\n",
              "[3 rows x 21 columns]"
            ]
          },
          "metadata": {
            "tags": []
          },
          "execution_count": 56
        }
      ]
    },
    {
      "cell_type": "code",
      "metadata": {
        "id": "Gwd56ccSIF5y",
        "colab_type": "code",
        "colab": {
          "base_uri": "https://localhost:8080/",
          "height": 526
        },
        "outputId": "53722c6f-7ebd-4756-8d5f-841a423ad58e"
      },
      "source": [
        "telco.info()"
      ],
      "execution_count": 6,
      "outputs": [
        {
          "output_type": "stream",
          "text": [
            "<class 'pandas.core.frame.DataFrame'>\n",
            "RangeIndex: 3333 entries, 0 to 3332\n",
            "Data columns (total 21 columns):\n",
            " #   Column          Non-Null Count  Dtype  \n",
            "---  ------          --------------  -----  \n",
            " 0   Account_Length  3333 non-null   int64  \n",
            " 1   Vmail_Message   3333 non-null   int64  \n",
            " 2   Day_Mins        3333 non-null   float64\n",
            " 3   Eve_Mins        3333 non-null   float64\n",
            " 4   Night_Mins      3333 non-null   float64\n",
            " 5   Intl_Mins       3333 non-null   float64\n",
            " 6   CustServ_Calls  3333 non-null   int64  \n",
            " 7   Churn           3333 non-null   object \n",
            " 8   Intl_Plan       3333 non-null   object \n",
            " 9   Vmail_Plan      3333 non-null   object \n",
            " 10  Day_Calls       3333 non-null   int64  \n",
            " 11  Day_Charge      3333 non-null   float64\n",
            " 12  Eve_Calls       3333 non-null   int64  \n",
            " 13  Eve_Charge      3333 non-null   float64\n",
            " 14  Night_Calls     3333 non-null   int64  \n",
            " 15  Night_Charge    3333 non-null   float64\n",
            " 16  Intl_Calls      3333 non-null   int64  \n",
            " 17  Intl_Charge     3333 non-null   float64\n",
            " 18  State           3333 non-null   object \n",
            " 19  Area_Code       3333 non-null   int64  \n",
            " 20  Phone           3333 non-null   object \n",
            "dtypes: float64(8), int64(8), object(5)\n",
            "memory usage: 546.9+ KB\n"
          ],
          "name": "stdout"
        }
      ]
    },
    {
      "cell_type": "markdown",
      "metadata": {
        "id": "Iz1AyjMjvACh",
        "colab_type": "text"
      },
      "source": [
        "# Exploratory Data Analysis"
      ]
    },
    {
      "cell_type": "markdown",
      "metadata": {
        "id": "jMstigOTIS77",
        "colab_type": "text"
      },
      "source": [
        "###How many people churned, and not churned?"
      ]
    },
    {
      "cell_type": "code",
      "metadata": {
        "id": "PP5WdwASIKe7",
        "colab_type": "code",
        "colab": {
          "base_uri": "https://localhost:8080/",
          "height": 72
        },
        "outputId": "95db85b7-0471-4f20-c260-af4c993d7d7b"
      },
      "source": [
        "telco['Churn'].value_counts()"
      ],
      "execution_count": 7,
      "outputs": [
        {
          "output_type": "execute_result",
          "data": {
            "text/plain": [
              "no     2850\n",
              "yes     483\n",
              "Name: Churn, dtype: int64"
            ]
          },
          "metadata": {
            "tags": []
          },
          "execution_count": 7
        }
      ]
    },
    {
      "cell_type": "code",
      "metadata": {
        "id": "mCxYupJlJWSF",
        "colab_type": "code",
        "colab": {
          "base_uri": "https://localhost:8080/",
          "height": 138
        },
        "outputId": "85502177-adbd-48c1-de8c-bb0a2f221278"
      },
      "source": [
        "telco.groupby(['Churn'])[['CustServ_Calls', 'Vmail_Message']].mean()"
      ],
      "execution_count": 10,
      "outputs": [
        {
          "output_type": "execute_result",
          "data": {
            "text/html": [
              "<div>\n",
              "<style scoped>\n",
              "    .dataframe tbody tr th:only-of-type {\n",
              "        vertical-align: middle;\n",
              "    }\n",
              "\n",
              "    .dataframe tbody tr th {\n",
              "        vertical-align: top;\n",
              "    }\n",
              "\n",
              "    .dataframe thead th {\n",
              "        text-align: right;\n",
              "    }\n",
              "</style>\n",
              "<table border=\"1\" class=\"dataframe\">\n",
              "  <thead>\n",
              "    <tr style=\"text-align: right;\">\n",
              "      <th></th>\n",
              "      <th>CustServ_Calls</th>\n",
              "      <th>Vmail_Message</th>\n",
              "    </tr>\n",
              "    <tr>\n",
              "      <th>Churn</th>\n",
              "      <th></th>\n",
              "      <th></th>\n",
              "    </tr>\n",
              "  </thead>\n",
              "  <tbody>\n",
              "    <tr>\n",
              "      <th>no</th>\n",
              "      <td>1.449825</td>\n",
              "      <td>8.604561</td>\n",
              "    </tr>\n",
              "    <tr>\n",
              "      <th>yes</th>\n",
              "      <td>2.229814</td>\n",
              "      <td>5.115942</td>\n",
              "    </tr>\n",
              "  </tbody>\n",
              "</table>\n",
              "</div>"
            ],
            "text/plain": [
              "       CustServ_Calls  Vmail_Message\n",
              "Churn                               \n",
              "no           1.449825       8.604561\n",
              "yes          2.229814       5.115942"
            ]
          },
          "metadata": {
            "tags": []
          },
          "execution_count": 10
        }
      ]
    },
    {
      "cell_type": "markdown",
      "metadata": {
        "id": "2PfpD7hbILdG",
        "colab_type": "text"
      },
      "source": [
        "Churners make more customer service calls than non-churners."
      ]
    },
    {
      "cell_type": "markdown",
      "metadata": {
        "id": "LzK6XzOWKXzx",
        "colab_type": "text"
      },
      "source": [
        "### Churn By State"
      ]
    },
    {
      "cell_type": "markdown",
      "metadata": {
        "id": "xNsUs8KVN8qT",
        "colab_type": "text"
      },
      "source": [
        "Top 10 states with the highest number of churned customer"
      ]
    },
    {
      "cell_type": "code",
      "metadata": {
        "id": "E0MlGsjYIIIq",
        "colab_type": "code",
        "colab": {
          "base_uri": "https://localhost:8080/",
          "height": 378
        },
        "outputId": "6adccaa0-c01b-4884-d203-de4505525fd9"
      },
      "source": [
        "telco.groupby('State')['Churn'].value_counts().to_frame('numChurn').loc[(slice(None), ['yes']), :].sort_values(by='numChurn', ascending=False).head(10)"
      ],
      "execution_count": 36,
      "outputs": [
        {
          "output_type": "execute_result",
          "data": {
            "text/html": [
              "<div>\n",
              "<style scoped>\n",
              "    .dataframe tbody tr th:only-of-type {\n",
              "        vertical-align: middle;\n",
              "    }\n",
              "\n",
              "    .dataframe tbody tr th {\n",
              "        vertical-align: top;\n",
              "    }\n",
              "\n",
              "    .dataframe thead th {\n",
              "        text-align: right;\n",
              "    }\n",
              "</style>\n",
              "<table border=\"1\" class=\"dataframe\">\n",
              "  <thead>\n",
              "    <tr style=\"text-align: right;\">\n",
              "      <th></th>\n",
              "      <th></th>\n",
              "      <th>numChurn</th>\n",
              "    </tr>\n",
              "    <tr>\n",
              "      <th>State</th>\n",
              "      <th>Churn</th>\n",
              "      <th></th>\n",
              "    </tr>\n",
              "  </thead>\n",
              "  <tbody>\n",
              "    <tr>\n",
              "      <th>NJ</th>\n",
              "      <th>yes</th>\n",
              "      <td>18</td>\n",
              "    </tr>\n",
              "    <tr>\n",
              "      <th>TX</th>\n",
              "      <th>yes</th>\n",
              "      <td>18</td>\n",
              "    </tr>\n",
              "    <tr>\n",
              "      <th>MD</th>\n",
              "      <th>yes</th>\n",
              "      <td>17</td>\n",
              "    </tr>\n",
              "    <tr>\n",
              "      <th>MI</th>\n",
              "      <th>yes</th>\n",
              "      <td>16</td>\n",
              "    </tr>\n",
              "    <tr>\n",
              "      <th>MN</th>\n",
              "      <th>yes</th>\n",
              "      <td>15</td>\n",
              "    </tr>\n",
              "    <tr>\n",
              "      <th>NY</th>\n",
              "      <th>yes</th>\n",
              "      <td>15</td>\n",
              "    </tr>\n",
              "    <tr>\n",
              "      <th>MT</th>\n",
              "      <th>yes</th>\n",
              "      <td>14</td>\n",
              "    </tr>\n",
              "    <tr>\n",
              "      <th>NV</th>\n",
              "      <th>yes</th>\n",
              "      <td>14</td>\n",
              "    </tr>\n",
              "    <tr>\n",
              "      <th>MS</th>\n",
              "      <th>yes</th>\n",
              "      <td>14</td>\n",
              "    </tr>\n",
              "    <tr>\n",
              "      <th>SC</th>\n",
              "      <th>yes</th>\n",
              "      <td>14</td>\n",
              "    </tr>\n",
              "  </tbody>\n",
              "</table>\n",
              "</div>"
            ],
            "text/plain": [
              "             numChurn\n",
              "State Churn          \n",
              "NJ    yes          18\n",
              "TX    yes          18\n",
              "MD    yes          17\n",
              "MI    yes          16\n",
              "MN    yes          15\n",
              "NY    yes          15\n",
              "MT    yes          14\n",
              "NV    yes          14\n",
              "MS    yes          14\n",
              "SC    yes          14"
            ]
          },
          "metadata": {
            "tags": []
          },
          "execution_count": 36
        }
      ]
    },
    {
      "cell_type": "markdown",
      "metadata": {
        "id": "v4btVYaUqRL-",
        "colab_type": "text"
      },
      "source": [
        "### Visualize distribution on features\n",
        "\n",
        "\n",
        "* 'Day_Mins'\n",
        "* 'Eve_Mins'\n",
        "* 'Night_Mins'\n",
        "* 'Intl_Mins'\n",
        "\n",
        "\n"
      ]
    },
    {
      "cell_type": "code",
      "metadata": {
        "id": "_BcwNScCIJs7",
        "colab_type": "code",
        "colab": {
          "base_uri": "https://localhost:8080/",
          "height": 731
        },
        "outputId": "4fd503c3-e06b-41b5-8ade-6a5fd8ec375f"
      },
      "source": [
        "fig, axes = plt.subplots(2, 2, figsize=(12, 12))\n",
        "\n",
        "features = ['Day_Mins',\n",
        "'Eve_Mins',\n",
        "'Night_Mins',\n",
        "'Intl_Mins']\n",
        "\n",
        "for i, feat in enumerate(features):\n",
        "  if i < 2:\n",
        "    sns.distplot(telco[feat], ax=axes[0, i])\n",
        "    axes[0, i].set(title='Distriution of ' + feat)\n",
        "  else:\n",
        "    sns.distplot(telco[feat], ax=axes[1, i-2])\n",
        "    axes[1, i-2].set(title='Distriution of ' + feat)\n",
        "\n",
        "plt.show()"
      ],
      "execution_count": 11,
      "outputs": [
        {
          "output_type": "display_data",
          "data": {
            "image/png": "[encoded data removed]",
            "text/plain": [
              "<Figure size 864x864 with 4 Axes>"
            ]
          },
          "metadata": {
            "tags": [],
            "needs_background": "light"
          }
        }
      ]
    },
    {
      "cell_type": "markdown",
      "metadata": {
        "id": "X6ytOIY8sLq1",
        "colab_type": "text"
      },
      "source": [
        "All of these features appear to be well approximated by the normal distribution. If this were not the case, we would have to consider applying a feature transformation of some kind."
      ]
    },
    {
      "cell_type": "markdown",
      "metadata": {
        "id": "v2raRhlnsR83",
        "colab_type": "text"
      },
      "source": [
        "### Customer service calls and churn\n",
        "\n",
        "Do customers who have international plans make more customer service calls? Or do they tend to churn more?"
      ]
    },
    {
      "cell_type": "code",
      "metadata": {
        "id": "AVuyZIXgOKBo",
        "colab_type": "code",
        "colab": {
          "base_uri": "https://localhost:8080/",
          "height": 497
        },
        "outputId": "025d5e8c-76fe-4e9c-a428-504ec5a51f79"
      },
      "source": [
        "fig, (ax1, ax2) = plt.subplots(1, 2, figsize=(10, 8))\n",
        "\n",
        "\n",
        "sns.boxplot(x = 'Churn',\n",
        "            y = 'CustServ_Calls',\n",
        "            data = telco,\n",
        "            sym = \"\",#remove outlier\n",
        "            hue = \"Vmail_Plan\", ax=ax1)\n",
        "\n",
        "\n",
        "sns.boxplot(x = 'Churn',\n",
        "            y = 'CustServ_Calls',\n",
        "            data = telco,\n",
        "            sym = \"\",\n",
        "            hue = \"Intl_Plan\", ax=ax2)\n",
        "plt.show()"
      ],
      "execution_count": 16,
      "outputs": [
        {
          "output_type": "display_data",
          "data": {
            "image/png": "[encoded data removed]",
            "text/plain": [
              "<Figure size 720x576 with 2 Axes>"
            ]
          },
          "metadata": {
            "tags": [],
            "needs_background": "light"
          }
        }
      ]
    },
    {
      "cell_type": "markdown",
      "metadata": {
        "id": "0rP8D9lyt9Oa",
        "colab_type": "text"
      },
      "source": [
        "It looks like customers who do churn end up leaving more customer service calls, unless these customers also have an international plan, in which case they leave fewer customer service calls."
      ]
    },
    {
      "cell_type": "markdown",
      "metadata": {
        "id": "kKHKIoWBwN2G",
        "colab_type": "text"
      },
      "source": [
        "# Data Preprocessing\n",
        "\n",
        "\n",
        "- assumptions of the data need to be met to make the model effective:\n",
        "\n",
        " * normally distributed\n",
        " * similar scale\n",
        "\n",
        "- other preprocessing:\n",
        "\n",
        " * encode categorical features (label encode for binary feature, and one hot encode for multi level feature)\n"
      ]
    },
    {
      "cell_type": "markdown",
      "metadata": {
        "id": "hDHl5WJQ7o0H",
        "colab_type": "text"
      },
      "source": [
        "### *encoding*"
      ]
    },
    {
      "cell_type": "code",
      "metadata": {
        "id": "bs_H5vHhrkoB",
        "colab_type": "code",
        "colab": {
          "base_uri": "https://localhost:8080/",
          "height": 35
        },
        "outputId": "e3319a98-e5e0-403f-f14b-b69c908ace11"
      },
      "source": [
        "cat_features = telco.select_dtypes('object').columns.tolist()\n",
        "cat_features"
      ],
      "execution_count": 57,
      "outputs": [
        {
          "output_type": "execute_result",
          "data": {
            "text/plain": [
              "['Churn', 'Intl_Plan', 'Vmail_Plan', 'State', 'Phone']"
            ]
          },
          "metadata": {
            "tags": []
          },
          "execution_count": 57
        }
      ]
    },
    {
      "cell_type": "code",
      "metadata": {
        "id": "Xa0i-JcS37Jd",
        "colab_type": "code",
        "colab": {
          "base_uri": "https://localhost:8080/",
          "height": 35
        },
        "outputId": "ad7b609d-7cc6-4b6f-ce98-04e6d3ff4816"
      },
      "source": [
        "binary_features = telco[cat_features].nunique()[np.where(telco[cat_features].nunique()==2)[0]].index.values.tolist()\n",
        "binary_features"
      ],
      "execution_count": 58,
      "outputs": [
        {
          "output_type": "execute_result",
          "data": {
            "text/plain": [
              "['Churn', 'Intl_Plan', 'Vmail_Plan']"
            ]
          },
          "metadata": {
            "tags": []
          },
          "execution_count": 58
        }
      ]
    },
    {
      "cell_type": "code",
      "metadata": {
        "id": "ljDWfK4Xw7eh",
        "colab_type": "code",
        "colab": {}
      },
      "source": [
        "replaced_vals = {'yes': 1, 'no': 0}\n",
        "\n",
        "for col in binary_features:\n",
        "  telco[col] = telco[col].replace(replaced_vals)"
      ],
      "execution_count": 0,
      "outputs": []
    },
    {
      "cell_type": "code",
      "metadata": {
        "id": "YfLQTg0l5KkP",
        "colab_type": "code",
        "colab": {
          "base_uri": "https://localhost:8080/",
          "height": 138
        },
        "outputId": "c5d34381-ae71-45cb-a23e-8306fb0c0a93"
      },
      "source": [
        "# Perform one hot encoding on 'State'\n",
        "telco_state = pd.get_dummies(telco['State'])\n",
        "telco_state.head(3)"
      ],
      "execution_count": 60,
      "outputs": [
        {
          "output_type": "execute_result",
          "data": {
            "text/html": [
              "<div>\n",
              "<style scoped>\n",
              "    .dataframe tbody tr th:only-of-type {\n",
              "        vertical-align: middle;\n",
              "    }\n",
              "\n",
              "    .dataframe tbody tr th {\n",
              "        vertical-align: top;\n",
              "    }\n",
              "\n",
              "    .dataframe thead th {\n",
              "        text-align: right;\n",
              "    }\n",
              "</style>\n",
              "<table border=\"1\" class=\"dataframe\">\n",
              "  <thead>\n",
              "    <tr style=\"text-align: right;\">\n",
              "      <th></th>\n",
              "      <th>AK</th>\n",
              "      <th>AL</th>\n",
              "      <th>AR</th>\n",
              "      <th>AZ</th>\n",
              "      <th>CA</th>\n",
              "      <th>CO</th>\n",
              "      <th>CT</th>\n",
              "      <th>DC</th>\n",
              "      <th>DE</th>\n",
              "      <th>FL</th>\n",
              "      <th>GA</th>\n",
              "      <th>HI</th>\n",
              "      <th>IA</th>\n",
              "      <th>ID</th>\n",
              "      <th>IL</th>\n",
              "      <th>IN</th>\n",
              "      <th>KS</th>\n",
              "      <th>KY</th>\n",
              "      <th>LA</th>\n",
              "      <th>MA</th>\n",
              "      <th>MD</th>\n",
              "      <th>ME</th>\n",
              "      <th>MI</th>\n",
              "      <th>MN</th>\n",
              "      <th>MO</th>\n",
              "      <th>MS</th>\n",
              "      <th>MT</th>\n",
              "      <th>NC</th>\n",
              "      <th>ND</th>\n",
              "      <th>NE</th>\n",
              "      <th>NH</th>\n",
              "      <th>NJ</th>\n",
              "      <th>NM</th>\n",
              "      <th>NV</th>\n",
              "      <th>NY</th>\n",
              "      <th>OH</th>\n",
              "      <th>OK</th>\n",
              "      <th>OR</th>\n",
              "      <th>PA</th>\n",
              "      <th>RI</th>\n",
              "      <th>SC</th>\n",
              "      <th>SD</th>\n",
              "      <th>TN</th>\n",
              "      <th>TX</th>\n",
              "      <th>UT</th>\n",
              "      <th>VA</th>\n",
              "      <th>VT</th>\n",
              "      <th>WA</th>\n",
              "      <th>WI</th>\n",
              "      <th>WV</th>\n",
              "      <th>WY</th>\n",
              "    </tr>\n",
              "  </thead>\n",
              "  <tbody>\n",
              "    <tr>\n",
              "      <th>0</th>\n",
              "      <td>0</td>\n",
              "      <td>0</td>\n",
              "      <td>0</td>\n",
              "      <td>0</td>\n",
              "      <td>0</td>\n",
              "      <td>0</td>\n",
              "      <td>0</td>\n",
              "      <td>0</td>\n",
              "      <td>0</td>\n",
              "      <td>0</td>\n",
              "      <td>0</td>\n",
              "      <td>0</td>\n",
              "      <td>0</td>\n",
              "      <td>0</td>\n",
              "      <td>0</td>\n",
              "      <td>0</td>\n",
              "      <td>1</td>\n",
              "      <td>0</td>\n",
              "      <td>0</td>\n",
              "      <td>0</td>\n",
              "      <td>0</td>\n",
              "      <td>0</td>\n",
              "      <td>0</td>\n",
              "      <td>0</td>\n",
              "      <td>0</td>\n",
              "      <td>0</td>\n",
              "      <td>0</td>\n",
              "      <td>0</td>\n",
              "      <td>0</td>\n",
              "      <td>0</td>\n",
              "      <td>0</td>\n",
              "      <td>0</td>\n",
              "      <td>0</td>\n",
              "      <td>0</td>\n",
              "      <td>0</td>\n",
              "      <td>0</td>\n",
              "      <td>0</td>\n",
              "      <td>0</td>\n",
              "      <td>0</td>\n",
              "      <td>0</td>\n",
              "      <td>0</td>\n",
              "      <td>0</td>\n",
              "      <td>0</td>\n",
              "      <td>0</td>\n",
              "      <td>0</td>\n",
              "      <td>0</td>\n",
              "      <td>0</td>\n",
              "      <td>0</td>\n",
              "      <td>0</td>\n",
              "      <td>0</td>\n",
              "      <td>0</td>\n",
              "    </tr>\n",
              "    <tr>\n",
              "      <th>1</th>\n",
              "      <td>0</td>\n",
              "      <td>0</td>\n",
              "      <td>0</td>\n",
              "      <td>0</td>\n",
              "      <td>0</td>\n",
              "      <td>0</td>\n",
              "      <td>0</td>\n",
              "      <td>0</td>\n",
              "      <td>0</td>\n",
              "      <td>0</td>\n",
              "      <td>0</td>\n",
              "      <td>0</td>\n",
              "      <td>0</td>\n",
              "      <td>0</td>\n",
              "      <td>0</td>\n",
              "      <td>0</td>\n",
              "      <td>0</td>\n",
              "      <td>0</td>\n",
              "      <td>0</td>\n",
              "      <td>0</td>\n",
              "      <td>0</td>\n",
              "      <td>0</td>\n",
              "      <td>0</td>\n",
              "      <td>0</td>\n",
              "      <td>0</td>\n",
              "      <td>0</td>\n",
              "      <td>0</td>\n",
              "      <td>0</td>\n",
              "      <td>0</td>\n",
              "      <td>0</td>\n",
              "      <td>0</td>\n",
              "      <td>0</td>\n",
              "      <td>0</td>\n",
              "      <td>0</td>\n",
              "      <td>0</td>\n",
              "      <td>1</td>\n",
              "      <td>0</td>\n",
              "      <td>0</td>\n",
              "      <td>0</td>\n",
              "      <td>0</td>\n",
              "      <td>0</td>\n",
              "      <td>0</td>\n",
              "      <td>0</td>\n",
              "      <td>0</td>\n",
              "      <td>0</td>\n",
              "      <td>0</td>\n",
              "      <td>0</td>\n",
              "      <td>0</td>\n",
              "      <td>0</td>\n",
              "      <td>0</td>\n",
              "      <td>0</td>\n",
              "    </tr>\n",
              "    <tr>\n",
              "      <th>2</th>\n",
              "      <td>0</td>\n",
              "      <td>0</td>\n",
              "      <td>0</td>\n",
              "      <td>0</td>\n",
              "      <td>0</td>\n",
              "      <td>0</td>\n",
              "      <td>0</td>\n",
              "      <td>0</td>\n",
              "      <td>0</td>\n",
              "      <td>0</td>\n",
              "      <td>0</td>\n",
              "      <td>0</td>\n",
              "      <td>0</td>\n",
              "      <td>0</td>\n",
              "      <td>0</td>\n",
              "      <td>0</td>\n",
              "      <td>0</td>\n",
              "      <td>0</td>\n",
              "      <td>0</td>\n",
              "      <td>0</td>\n",
              "      <td>0</td>\n",
              "      <td>0</td>\n",
              "      <td>0</td>\n",
              "      <td>0</td>\n",
              "      <td>0</td>\n",
              "      <td>0</td>\n",
              "      <td>0</td>\n",
              "      <td>0</td>\n",
              "      <td>0</td>\n",
              "      <td>0</td>\n",
              "      <td>0</td>\n",
              "      <td>1</td>\n",
              "      <td>0</td>\n",
              "      <td>0</td>\n",
              "      <td>0</td>\n",
              "      <td>0</td>\n",
              "      <td>0</td>\n",
              "      <td>0</td>\n",
              "      <td>0</td>\n",
              "      <td>0</td>\n",
              "      <td>0</td>\n",
              "      <td>0</td>\n",
              "      <td>0</td>\n",
              "      <td>0</td>\n",
              "      <td>0</td>\n",
              "      <td>0</td>\n",
              "      <td>0</td>\n",
              "      <td>0</td>\n",
              "      <td>0</td>\n",
              "      <td>0</td>\n",
              "      <td>0</td>\n",
              "    </tr>\n",
              "  </tbody>\n",
              "</table>\n",
              "</div>"
            ],
            "text/plain": [
              "   AK  AL  AR  AZ  CA  CO  CT  DC  DE  ...  TN  TX  UT  VA  VT  WA  WI  WV  WY\n",
              "0   0   0   0   0   0   0   0   0   0  ...   0   0   0   0   0   0   0   0   0\n",
              "1   0   0   0   0   0   0   0   0   0  ...   0   0   0   0   0   0   0   0   0\n",
              "2   0   0   0   0   0   0   0   0   0  ...   0   0   0   0   0   0   0   0   0\n",
              "\n",
              "[3 rows x 51 columns]"
            ]
          },
          "metadata": {
            "tags": []
          },
          "execution_count": 60
        }
      ]
    },
    {
      "cell_type": "markdown",
      "metadata": {
        "id": "DqUy2GPY9ghG",
        "colab_type": "text"
      },
      "source": [
        "### *Feature selection and feature engineering*\n",
        "\n",
        "\n",
        "* get rid of the features that doen't provide predictive power, such as phone number, account identifier\n",
        "* engineer features according to business knowledge, such as adding new features based on existed features, etc.\n",
        "\n",
        "This quote from Andrew Ng summarizes the importance of feature engineering:\n",
        "\n",
        "> Coming up with features is difficult, time-consuming, requires expert knowledge. \"Applied machine learning\" is basically feature engineering."
      ]
    },
    {
      "cell_type": "code",
      "metadata": {
        "id": "Q8lgcDPZ8hvx",
        "colab_type": "code",
        "colab": {
          "base_uri": "https://localhost:8080/",
          "height": 108
        },
        "outputId": "a3fddeaa-906c-4b6c-cb97-3ab0fdf00be2"
      },
      "source": [
        "drop_feats = ['Area_Code','Phone']\n",
        "telco = telco.drop(drop_feats, axis=1)\n",
        "telco.columns"
      ],
      "execution_count": 66,
      "outputs": [
        {
          "output_type": "execute_result",
          "data": {
            "text/plain": [
              "Index(['Account_Length', 'Vmail_Message', 'Day_Mins', 'Eve_Mins', 'Night_Mins',\n",
              "       'Intl_Mins', 'CustServ_Calls', 'Churn', 'Intl_Plan', 'Vmail_Plan',\n",
              "       'Day_Calls', 'Day_Charge', 'Eve_Calls', 'Eve_Charge', 'Night_Calls',\n",
              "       'Night_Charge', 'Intl_Calls', 'Intl_Charge', 'State'],\n",
              "      dtype='object')"
            ]
          },
          "metadata": {
            "tags": []
          },
          "execution_count": 66
        }
      ]
    },
    {
      "cell_type": "markdown",
      "metadata": {
        "id": "dsX3DCLD-yMo",
        "colab_type": "text"
      },
      "source": [
        "Create a new feature - 'Avg_Night_Calls' - that is the result of dividing 'Night_Mins by 'Night_Calls'."
      ]
    },
    {
      "cell_type": "code",
      "metadata": {
        "id": "NqfV6daB-AyP",
        "colab_type": "code",
        "colab": {
          "base_uri": "https://localhost:8080/",
          "height": 298
        },
        "outputId": "8f219127-43a2-4153-8dd8-339f24994c67"
      },
      "source": [
        "# Create the new feature\n",
        "telco['Avg_Night_Calls'] = telco['Night_Mins'] / telco['Night_Calls']\n",
        "sns.distplot(telco['Avg_Night_Calls'])"
      ],
      "execution_count": 67,
      "outputs": [
        {
          "output_type": "execute_result",
          "data": {
            "text/plain": [
              "<matplotlib.axes._subplots.AxesSubplot at 0x7f8370a58a58>"
            ]
          },
          "metadata": {
            "tags": []
          },
          "execution_count": 67
        },
        {
          "output_type": "display_data",
          "data": {
            "image/png": "[encoded data removed]",
            "text/plain": [
              "<Figure size 432x288 with 1 Axes>"
            ]
          },
          "metadata": {
            "tags": [],
            "needs_background": "light"
          }
        }
      ]
    },
    {
      "cell_type": "markdown",
      "metadata": {
        "id": "PqVkn4xL7vVW",
        "colab_type": "text"
      },
      "source": [
        "### *Scaling*"
      ]
    },
    {
      "cell_type": "code",
      "metadata": {
        "id": "ehqolBuO7ffd",
        "colab_type": "code",
        "colab": {
          "base_uri": "https://localhost:8080/",
          "height": 288
        },
        "outputId": "be6c90ea-8a00-4d4c-82f0-050b5bb16f10"
      },
      "source": [
        "unscaled_feat = ['Intl_Calls', 'Night_Mins']\n",
        "telco[unscaled_feat].describe()"
      ],
      "execution_count": 61,
      "outputs": [
        {
          "output_type": "execute_result",
          "data": {
            "text/html": [
              "<div>\n",
              "<style scoped>\n",
              "    .dataframe tbody tr th:only-of-type {\n",
              "        vertical-align: middle;\n",
              "    }\n",
              "\n",
              "    .dataframe tbody tr th {\n",
              "        vertical-align: top;\n",
              "    }\n",
              "\n",
              "    .dataframe thead th {\n",
              "        text-align: right;\n",
              "    }\n",
              "</style>\n",
              "<table border=\"1\" class=\"dataframe\">\n",
              "  <thead>\n",
              "    <tr style=\"text-align: right;\">\n",
              "      <th></th>\n",
              "      <th>Intl_Calls</th>\n",
              "      <th>Night_Mins</th>\n",
              "    </tr>\n",
              "  </thead>\n",
              "  <tbody>\n",
              "    <tr>\n",
              "      <th>count</th>\n",
              "      <td>3333.000000</td>\n",
              "      <td>3333.000000</td>\n",
              "    </tr>\n",
              "    <tr>\n",
              "      <th>mean</th>\n",
              "      <td>4.479448</td>\n",
              "      <td>200.872037</td>\n",
              "    </tr>\n",
              "    <tr>\n",
              "      <th>std</th>\n",
              "      <td>2.461214</td>\n",
              "      <td>50.573847</td>\n",
              "    </tr>\n",
              "    <tr>\n",
              "      <th>min</th>\n",
              "      <td>0.000000</td>\n",
              "      <td>23.200000</td>\n",
              "    </tr>\n",
              "    <tr>\n",
              "      <th>25%</th>\n",
              "      <td>3.000000</td>\n",
              "      <td>167.000000</td>\n",
              "    </tr>\n",
              "    <tr>\n",
              "      <th>50%</th>\n",
              "      <td>4.000000</td>\n",
              "      <td>201.200000</td>\n",
              "    </tr>\n",
              "    <tr>\n",
              "      <th>75%</th>\n",
              "      <td>6.000000</td>\n",
              "      <td>235.300000</td>\n",
              "    </tr>\n",
              "    <tr>\n",
              "      <th>max</th>\n",
              "      <td>20.000000</td>\n",
              "      <td>395.000000</td>\n",
              "    </tr>\n",
              "  </tbody>\n",
              "</table>\n",
              "</div>"
            ],
            "text/plain": [
              "        Intl_Calls   Night_Mins\n",
              "count  3333.000000  3333.000000\n",
              "mean      4.479448   200.872037\n",
              "std       2.461214    50.573847\n",
              "min       0.000000    23.200000\n",
              "25%       3.000000   167.000000\n",
              "50%       4.000000   201.200000\n",
              "75%       6.000000   235.300000\n",
              "max      20.000000   395.000000"
            ]
          },
          "metadata": {
            "tags": []
          },
          "execution_count": 61
        }
      ]
    },
    {
      "cell_type": "code",
      "metadata": {
        "id": "ic06btSX8Fw1",
        "colab_type": "code",
        "colab": {
          "base_uri": "https://localhost:8080/",
          "height": 288
        },
        "outputId": "0336f409-a447-4d18-986e-f346c104b5c4"
      },
      "source": [
        "from sklearn.preprocessing import StandardScaler\n",
        "\n",
        "scaler = StandardScaler()\n",
        "telco_scaled = scaler.fit_transform(telco[unscaled_feat])\n",
        "telco_scaled_df = pd.DataFrame(telco_scaled, columns=unscaled_feat)\n",
        "telco_scaled_df.describe()"
      ],
      "execution_count": 62,
      "outputs": [
        {
          "output_type": "execute_result",
          "data": {
            "text/html": [
              "<div>\n",
              "<style scoped>\n",
              "    .dataframe tbody tr th:only-of-type {\n",
              "        vertical-align: middle;\n",
              "    }\n",
              "\n",
              "    .dataframe tbody tr th {\n",
              "        vertical-align: top;\n",
              "    }\n",
              "\n",
              "    .dataframe thead th {\n",
              "        text-align: right;\n",
              "    }\n",
              "</style>\n",
              "<table border=\"1\" class=\"dataframe\">\n",
              "  <thead>\n",
              "    <tr style=\"text-align: right;\">\n",
              "      <th></th>\n",
              "      <th>Intl_Calls</th>\n",
              "      <th>Night_Mins</th>\n",
              "    </tr>\n",
              "  </thead>\n",
              "  <tbody>\n",
              "    <tr>\n",
              "      <th>count</th>\n",
              "      <td>3.333000e+03</td>\n",
              "      <td>3.333000e+03</td>\n",
              "    </tr>\n",
              "    <tr>\n",
              "      <th>mean</th>\n",
              "      <td>-1.264615e-16</td>\n",
              "      <td>6.602046e-17</td>\n",
              "    </tr>\n",
              "    <tr>\n",
              "      <th>std</th>\n",
              "      <td>1.000150e+00</td>\n",
              "      <td>1.000150e+00</td>\n",
              "    </tr>\n",
              "    <tr>\n",
              "      <th>min</th>\n",
              "      <td>-1.820289e+00</td>\n",
              "      <td>-3.513648e+00</td>\n",
              "    </tr>\n",
              "    <tr>\n",
              "      <th>25%</th>\n",
              "      <td>-6.011951e-01</td>\n",
              "      <td>-6.698545e-01</td>\n",
              "    </tr>\n",
              "    <tr>\n",
              "      <th>50%</th>\n",
              "      <td>-1.948306e-01</td>\n",
              "      <td>6.485803e-03</td>\n",
              "    </tr>\n",
              "    <tr>\n",
              "      <th>75%</th>\n",
              "      <td>6.178983e-01</td>\n",
              "      <td>6.808485e-01</td>\n",
              "    </tr>\n",
              "    <tr>\n",
              "      <th>max</th>\n",
              "      <td>6.307001e+00</td>\n",
              "      <td>3.839081e+00</td>\n",
              "    </tr>\n",
              "  </tbody>\n",
              "</table>\n",
              "</div>"
            ],
            "text/plain": [
              "         Intl_Calls    Night_Mins\n",
              "count  3.333000e+03  3.333000e+03\n",
              "mean  -1.264615e-16  6.602046e-17\n",
              "std    1.000150e+00  1.000150e+00\n",
              "min   -1.820289e+00 -3.513648e+00\n",
              "25%   -6.011951e-01 -6.698545e-01\n",
              "50%   -1.948306e-01  6.485803e-03\n",
              "75%    6.178983e-01  6.808485e-01\n",
              "max    6.307001e+00  3.839081e+00"
            ]
          },
          "metadata": {
            "tags": []
          },
          "execution_count": 62
        }
      ]
    },
    {
      "cell_type": "markdown",
      "metadata": {
        "id": "Dl9Qap2U8oIy",
        "colab_type": "text"
      },
      "source": [
        "Both features are now on the same scale."
      ]
    },
    {
      "cell_type": "code",
      "metadata": {
        "id": "dmC9RDoEHrnt",
        "colab_type": "code",
        "colab": {
          "base_uri": "https://localhost:8080/",
          "height": 395
        },
        "outputId": "f8847fbc-751e-458a-ffe3-1408a853534c"
      },
      "source": [
        "# scale all numerical features\n",
        "features = list(set(telco.columns).difference(['Churn']))\n",
        "scaler = StandardScaler()\n",
        "telco_scaled = scaler.fit_transform(telco[features])\n",
        "telco_scaled_df = pd.DataFrame(telco_scaled, columns=features)\n",
        "telco_scaled_df.describe()"
      ],
      "execution_count": 119,
      "outputs": [
        {
          "output_type": "execute_result",
          "data": {
            "text/html": [
              "<div>\n",
              "<style scoped>\n",
              "    .dataframe tbody tr th:only-of-type {\n",
              "        vertical-align: middle;\n",
              "    }\n",
              "\n",
              "    .dataframe tbody tr th {\n",
              "        vertical-align: top;\n",
              "    }\n",
              "\n",
              "    .dataframe thead th {\n",
              "        text-align: right;\n",
              "    }\n",
              "</style>\n",
              "<table border=\"1\" class=\"dataframe\">\n",
              "  <thead>\n",
              "    <tr style=\"text-align: right;\">\n",
              "      <th></th>\n",
              "      <th>Vmail_Message</th>\n",
              "      <th>Night_Charge</th>\n",
              "      <th>Day_Calls</th>\n",
              "      <th>Intl_Mins</th>\n",
              "      <th>Day_Charge</th>\n",
              "      <th>Day_Mins</th>\n",
              "      <th>Eve_Calls</th>\n",
              "      <th>Vmail_Plan</th>\n",
              "      <th>Night_Mins</th>\n",
              "      <th>CustServ_Calls</th>\n",
              "      <th>Intl_Calls</th>\n",
              "      <th>Eve_Mins</th>\n",
              "      <th>Avg_Night_Calls</th>\n",
              "      <th>Account_Length</th>\n",
              "      <th>Intl_Charge</th>\n",
              "      <th>Intl_Plan</th>\n",
              "      <th>Eve_Charge</th>\n",
              "      <th>Night_Calls</th>\n",
              "    </tr>\n",
              "  </thead>\n",
              "  <tbody>\n",
              "    <tr>\n",
              "      <th>count</th>\n",
              "      <td>3.333000e+03</td>\n",
              "      <td>3.333000e+03</td>\n",
              "      <td>3.333000e+03</td>\n",
              "      <td>3.333000e+03</td>\n",
              "      <td>3.333000e+03</td>\n",
              "      <td>3.333000e+03</td>\n",
              "      <td>3.333000e+03</td>\n",
              "      <td>3.333000e+03</td>\n",
              "      <td>3.333000e+03</td>\n",
              "      <td>3.333000e+03</td>\n",
              "      <td>3.333000e+03</td>\n",
              "      <td>3.333000e+03</td>\n",
              "      <td>3.333000e+03</td>\n",
              "      <td>3.333000e+03</td>\n",
              "      <td>3.333000e+03</td>\n",
              "      <td>3.333000e+03</td>\n",
              "      <td>3.333000e+03</td>\n",
              "      <td>3.333000e+03</td>\n",
              "    </tr>\n",
              "    <tr>\n",
              "      <th>mean</th>\n",
              "      <td>3.832651e-16</td>\n",
              "      <td>-3.134473e-17</td>\n",
              "      <td>-2.150828e-16</td>\n",
              "      <td>-3.274375e-16</td>\n",
              "      <td>-3.226409e-16</td>\n",
              "      <td>7.081711e-16</td>\n",
              "      <td>3.527531e-16</td>\n",
              "      <td>6.921823e-17</td>\n",
              "      <td>6.602046e-17</td>\n",
              "      <td>3.275708e-16</td>\n",
              "      <td>-1.264615e-16</td>\n",
              "      <td>-1.067919e-16</td>\n",
              "      <td>-3.955898e-16</td>\n",
              "      <td>1.713134e-16</td>\n",
              "      <td>2.785384e-16</td>\n",
              "      <td>-1.021951e-16</td>\n",
              "      <td>1.266447e-16</td>\n",
              "      <td>-7.041739e-17</td>\n",
              "    </tr>\n",
              "    <tr>\n",
              "      <th>std</th>\n",
              "      <td>1.000150e+00</td>\n",
              "      <td>1.000150e+00</td>\n",
              "      <td>1.000150e+00</td>\n",
              "      <td>1.000150e+00</td>\n",
              "      <td>1.000150e+00</td>\n",
              "      <td>1.000150e+00</td>\n",
              "      <td>1.000150e+00</td>\n",
              "      <td>1.000150e+00</td>\n",
              "      <td>1.000150e+00</td>\n",
              "      <td>1.000150e+00</td>\n",
              "      <td>1.000150e+00</td>\n",
              "      <td>1.000150e+00</td>\n",
              "      <td>1.000150e+00</td>\n",
              "      <td>1.000150e+00</td>\n",
              "      <td>1.000150e+00</td>\n",
              "      <td>1.000150e+00</td>\n",
              "      <td>1.000150e+00</td>\n",
              "      <td>1.000150e+00</td>\n",
              "    </tr>\n",
              "    <tr>\n",
              "      <th>min</th>\n",
              "      <td>-5.917599e-01</td>\n",
              "      <td>-3.515366e+00</td>\n",
              "      <td>-5.005247e+00</td>\n",
              "      <td>-3.667413e+00</td>\n",
              "      <td>-3.301162e+00</td>\n",
              "      <td>-3.301096e+00</td>\n",
              "      <td>-5.025911e+00</td>\n",
              "      <td>-6.183963e-01</td>\n",
              "      <td>-3.513648e+00</td>\n",
              "      <td>-1.188218e+00</td>\n",
              "      <td>-1.820289e+00</td>\n",
              "      <td>-3.963622e+00</td>\n",
              "      <td>-2.627713e+00</td>\n",
              "      <td>-2.513172e+00</td>\n",
              "      <td>-3.668210e+00</td>\n",
              "      <td>-3.275805e-01</td>\n",
              "      <td>-3.963679e+00</td>\n",
              "      <td>-3.429870e+00</td>\n",
              "    </tr>\n",
              "    <tr>\n",
              "      <th>25%</th>\n",
              "      <td>-5.917599e-01</td>\n",
              "      <td>-6.676792e-01</td>\n",
              "      <td>-6.695701e-01</td>\n",
              "      <td>-6.223690e-01</td>\n",
              "      <td>-6.623760e-01</td>\n",
              "      <td>-6.624241e-01</td>\n",
              "      <td>-6.583610e-01</td>\n",
              "      <td>-6.183963e-01</td>\n",
              "      <td>-6.698545e-01</td>\n",
              "      <td>-4.279320e-01</td>\n",
              "      <td>-6.011951e-01</td>\n",
              "      <td>-6.780300e-01</td>\n",
              "      <td>-6.812800e-01</td>\n",
              "      <td>-6.797448e-01</td>\n",
              "      <td>-6.164341e-01</td>\n",
              "      <td>-3.275805e-01</td>\n",
              "      <td>-6.783123e-01</td>\n",
              "      <td>-6.699340e-01</td>\n",
              "    </tr>\n",
              "    <tr>\n",
              "      <th>50%</th>\n",
              "      <td>-5.917599e-01</td>\n",
              "      <td>4.691242e-03</td>\n",
              "      <td>2.812491e-02</td>\n",
              "      <td>2.246393e-02</td>\n",
              "      <td>-6.730063e-03</td>\n",
              "      <td>-6.887677e-03</td>\n",
              "      <td>-5.738630e-03</td>\n",
              "      <td>-6.183963e-01</td>\n",
              "      <td>6.485803e-03</td>\n",
              "      <td>-4.279320e-01</td>\n",
              "      <td>-1.948306e-01</td>\n",
              "      <td>8.276141e-03</td>\n",
              "      <td>-1.214148e-01</td>\n",
              "      <td>-1.627644e-03</td>\n",
              "      <td>2.045823e-02</td>\n",
              "      <td>-3.275805e-01</td>\n",
              "      <td>8.459274e-03</td>\n",
              "      <td>-5.505089e-03</td>\n",
              "    </tr>\n",
              "    <tr>\n",
              "      <th>75%</th>\n",
              "      <td>8.695542e-01</td>\n",
              "      <td>6.814562e-01</td>\n",
              "      <td>6.759846e-01</td>\n",
              "      <td>6.672969e-01</td>\n",
              "      <td>6.726790e-01</td>\n",
              "      <td>6.725198e-01</td>\n",
              "      <td>6.970854e-01</td>\n",
              "      <td>1.617086e+00</td>\n",
              "      <td>6.808485e-01</td>\n",
              "      <td>3.323545e-01</td>\n",
              "      <td>6.178983e-01</td>\n",
              "      <td>6.768330e-01</td>\n",
              "      <td>5.212164e-01</td>\n",
              "      <td>6.513740e-01</td>\n",
              "      <td>6.706192e-01</td>\n",
              "      <td>-3.275805e-01</td>\n",
              "      <td>6.766695e-01</td>\n",
              "      <td>6.589239e-01</td>\n",
              "    </tr>\n",
              "    <tr>\n",
              "      <th>max</th>\n",
              "      <td>3.134591e+00</td>\n",
              "      <td>3.836763e+00</td>\n",
              "      <td>3.217588e+00</td>\n",
              "      <td>3.497397e+00</td>\n",
              "      <td>3.140803e+00</td>\n",
              "      <td>3.140422e+00</td>\n",
              "      <td>3.508382e+00</td>\n",
              "      <td>1.617086e+00</td>\n",
              "      <td>3.839081e+00</td>\n",
              "      <td>5.654360e+00</td>\n",
              "      <td>6.307001e+00</td>\n",
              "      <td>3.209066e+00</td>\n",
              "      <td>7.093262e+00</td>\n",
              "      <td>3.564766e+00</td>\n",
              "      <td>3.496829e+00</td>\n",
              "      <td>3.052685e+00</td>\n",
              "      <td>3.207980e+00</td>\n",
              "      <td>3.827739e+00</td>\n",
              "    </tr>\n",
              "  </tbody>\n",
              "</table>\n",
              "</div>"
            ],
            "text/plain": [
              "       Vmail_Message  Night_Charge  ...    Eve_Charge   Night_Calls\n",
              "count   3.333000e+03  3.333000e+03  ...  3.333000e+03  3.333000e+03\n",
              "mean    3.832651e-16 -3.134473e-17  ...  1.266447e-16 -7.041739e-17\n",
              "std     1.000150e+00  1.000150e+00  ...  1.000150e+00  1.000150e+00\n",
              "min    -5.917599e-01 -3.515366e+00  ... -3.963679e+00 -3.429870e+00\n",
              "25%    -5.917599e-01 -6.676792e-01  ... -6.783123e-01 -6.699340e-01\n",
              "50%    -5.917599e-01  4.691242e-03  ...  8.459274e-03 -5.505089e-03\n",
              "75%     8.695542e-01  6.814562e-01  ...  6.766695e-01  6.589239e-01\n",
              "max     3.134591e+00  3.836763e+00  ...  3.207980e+00  3.827739e+00\n",
              "\n",
              "[8 rows x 18 columns]"
            ]
          },
          "metadata": {
            "tags": []
          },
          "execution_count": 119
        }
      ]
    },
    {
      "cell_type": "markdown",
      "metadata": {
        "id": "spIv0EuZ_KZI",
        "colab_type": "text"
      },
      "source": [
        "# Making Predictions on Churn"
      ]
    },
    {
      "cell_type": "markdown",
      "metadata": {
        "id": "O07qx9tiCXqy",
        "colab_type": "text"
      },
      "source": [
        "### Benchmark model: Logistic Regression\n",
        "\n",
        "* Offer simplicity and interpretability\n",
        "* Cannot capture complex relationships"
      ]
    },
    {
      "cell_type": "code",
      "metadata": {
        "id": "J3XXTY5QHQ0J",
        "colab_type": "code",
        "colab": {
          "base_uri": "https://localhost:8080/",
          "height": 54
        },
        "outputId": "20e414d3-c7bf-4db9-e9bb-56e33977ffea"
      },
      "source": [
        "# split data into train and test, where train is used to fit model, and test is used to evaluate the model performance\n",
        "from sklearn.model_selection import train_test_split\n",
        "\n",
        "X_train, X_test, y_train, y_test = train_test_split(telco_scaled_df, telco['Churn'], test_size=.3, random_state=42)\n",
        "\n",
        "print(f'Shape of train set: {X_train.shape}')\n",
        "print(f'Shape of test set: {X_test.shape}')"
      ],
      "execution_count": 123,
      "outputs": [
        {
          "output_type": "stream",
          "text": [
            "Shape of train set: (2333, 18)\n",
            "Shape of test set: (1000, 18)\n"
          ],
          "name": "stdout"
        }
      ]
    },
    {
      "cell_type": "code",
      "metadata": {
        "id": "pDylBYg1B08B",
        "colab_type": "code",
        "colab": {
          "base_uri": "https://localhost:8080/",
          "height": 35
        },
        "outputId": "71520ef2-8b83-4353-d75d-f460ca9e30d4"
      },
      "source": [
        "from sklearn.linear_model import LogisticRegression\n",
        "lg = LogisticRegression()\n",
        "lg.fit(X_train, y_train)\n",
        "lg.score(X_test, y_test)"
      ],
      "execution_count": 124,
      "outputs": [
        {
          "output_type": "execute_result",
          "data": {
            "text/plain": [
              "0.865"
            ]
          },
          "metadata": {
            "tags": []
          },
          "execution_count": 124
        }
      ]
    },
    {
      "cell_type": "markdown",
      "metadata": {
        "id": "ShpOQyt_JIRG",
        "colab_type": "text"
      },
      "source": [
        "### Decision Tree"
      ]
    },
    {
      "cell_type": "code",
      "metadata": {
        "id": "MD26kVQPJHSV",
        "colab_type": "code",
        "colab": {
          "base_uri": "https://localhost:8080/",
          "height": 35
        },
        "outputId": "fcefc254-83b1-4ec1-932b-87060b265bb6"
      },
      "source": [
        "from sklearn.tree import DecisionTreeClassifier\n",
        "tree = DecisionTreeClassifier()\n",
        "\n",
        "# Fit the classifier\n",
        "tree.fit(X_train, y_train)\n",
        "tree.score(X_test, y_test)"
      ],
      "execution_count": 125,
      "outputs": [
        {
          "output_type": "execute_result",
          "data": {
            "text/plain": [
              "0.913"
            ]
          },
          "metadata": {
            "tags": []
          },
          "execution_count": 125
        }
      ]
    },
    {
      "cell_type": "markdown",
      "metadata": {
        "id": "QkHBrNbYMEPe",
        "colab_type": "text"
      },
      "source": [
        "### Random Forest"
      ]
    },
    {
      "cell_type": "code",
      "metadata": {
        "id": "wcdqPHKSDpGS",
        "colab_type": "code",
        "colab": {
          "base_uri": "https://localhost:8080/",
          "height": 35
        },
        "outputId": "335ea44a-2b61-4d83-ab29-e95095182e88"
      },
      "source": [
        "from sklearn.ensemble import RandomForestClassifier\n",
        "\n",
        "rf = RandomForestClassifier()\n",
        "rf.fit(X_train, y_train)\n",
        "rf.score(X_test, y_test)"
      ],
      "execution_count": 126,
      "outputs": [
        {
          "output_type": "execute_result",
          "data": {
            "text/plain": [
              "0.949"
            ]
          },
          "metadata": {
            "tags": []
          },
          "execution_count": 126
        }
      ]
    },
    {
      "cell_type": "markdown",
      "metadata": {
        "id": "REqUALOsSJUe",
        "colab_type": "text"
      },
      "source": [
        "### Precision Score, Recall score and f1 score"
      ]
    },
    {
      "cell_type": "code",
      "metadata": {
        "id": "OWcq9QPuMdA-",
        "colab_type": "code",
        "colab": {
          "base_uri": "https://localhost:8080/",
          "height": 138
        },
        "outputId": "45a0d888-995c-4dd2-d296-f2560371380b"
      },
      "source": [
        "from sklearn.metrics import recall_score, precision_score, f1_score\n",
        "\n",
        "results = pd.DataFrame(np.zeros((3, 1)), index=['Recall', 'Precision', 'F1 Score'], columns=['Avg'])\n",
        "\n",
        "for clf in [lg, tree, rf]:\n",
        "  y_pred = clf.predict(X_test)\n",
        "  recall_ = recall_score(y_test, y_pred)\n",
        "  precision_ = precision_score(y_test, y_pred)\n",
        "  f1_ = f1_score(y_test, y_pred)\n",
        "  clf_name = clf.__class__.__name__\n",
        "  results[clf_name] = [recall_, precision_, f1_]\n",
        "\n",
        "results['Avg']=results.iloc[:, 1:].mean(axis=1)\n",
        "results.round(3)"
      ],
      "execution_count": 149,
      "outputs": [
        {
          "output_type": "execute_result",
          "data": {
            "text/html": [
              "<div>\n",
              "<style scoped>\n",
              "    .dataframe tbody tr th:only-of-type {\n",
              "        vertical-align: middle;\n",
              "    }\n",
              "\n",
              "    .dataframe tbody tr th {\n",
              "        vertical-align: top;\n",
              "    }\n",
              "\n",
              "    .dataframe thead th {\n",
              "        text-align: right;\n",
              "    }\n",
              "</style>\n",
              "<table border=\"1\" class=\"dataframe\">\n",
              "  <thead>\n",
              "    <tr style=\"text-align: right;\">\n",
              "      <th></th>\n",
              "      <th>Avg</th>\n",
              "      <th>LogisticRegression</th>\n",
              "      <th>DecisionTreeClassifier</th>\n",
              "      <th>RandomForestClassifier</th>\n",
              "    </tr>\n",
              "  </thead>\n",
              "  <tbody>\n",
              "    <tr>\n",
              "      <th>Recall</th>\n",
              "      <td>0.531</td>\n",
              "      <td>0.224</td>\n",
              "      <td>0.699</td>\n",
              "      <td>0.671</td>\n",
              "    </tr>\n",
              "    <tr>\n",
              "      <th>Precision</th>\n",
              "      <td>0.742</td>\n",
              "      <td>0.571</td>\n",
              "      <td>0.694</td>\n",
              "      <td>0.960</td>\n",
              "    </tr>\n",
              "    <tr>\n",
              "      <th>F1 Score</th>\n",
              "      <td>0.603</td>\n",
              "      <td>0.322</td>\n",
              "      <td>0.697</td>\n",
              "      <td>0.790</td>\n",
              "    </tr>\n",
              "  </tbody>\n",
              "</table>\n",
              "</div>"
            ],
            "text/plain": [
              "             Avg  ...  RandomForestClassifier\n",
              "Recall     0.531  ...                   0.671\n",
              "Precision  0.742  ...                   0.960\n",
              "F1 Score   0.603  ...                   0.790\n",
              "\n",
              "[3 rows x 4 columns]"
            ]
          },
          "metadata": {
            "tags": []
          },
          "execution_count": 149
        }
      ]
    },
    {
      "cell_type": "markdown",
      "metadata": {
        "id": "OXOTvjg8VIDg",
        "colab_type": "text"
      },
      "source": [
        "Whether to choose 'Recall' or 'Precision' depends on business strategy. \n",
        "\n",
        "If the cost of keeping existed customer is more than acquiring new customers, then high precision is in favor, since it tries to reduce the false churned customer.\n",
        "\n",
        "Conversely, if acquring new customers is more expensive than retaining existed customers, we prefer high recall, where we correctly predict as many churners as possible.\n",
        "\n",
        "![picture](https://github.com/AilingLiu/Growth_Analysis/blob/master/Images/Precision_or_Recall_In_Marketing.PNG?raw=true)\n",
        "\n",
        "[Picture from DataCamp](https://learn.datacamp.com/courses/marketing-analytics-predicting-customer-churn-in-python)\n",
        "\n",
        "Our results table shows RandomForest has the highest precision score, while DecisionTree has the highest recall score. The F1 score is the harmonic mean of precision and recall. In this metric, RandomForest has the highest performance."
      ]
    },
    {
      "cell_type": "code",
      "metadata": {
        "id": "EagVe1uXV-qg",
        "colab_type": "code",
        "colab": {
          "base_uri": "https://localhost:8080/",
          "height": 404
        },
        "outputId": "46e2f70f-6c65-496f-eebe-cf21042a0055"
      },
      "source": [
        "from sklearn.metrics import roc_curve, roc_auc_score\n",
        "\n",
        "auc_scores = {}\n",
        "fig, ax = plt.subplots(figsize=(10, 6))\n",
        "\n",
        "ax.plot([0, 1], [0, 1], 'k--')\n",
        "line_styles = ['g:', 'c-.', 'm-']\n",
        "\n",
        "for i, clf in enumerate([lg, tree, rf]):\n",
        "  y_pred_proba = clf.predict_proba(X_test)[:, 1]\n",
        "  fpr, tpr, thresholds = roc_curve(y_test, y_pred_proba)\n",
        "  clf_name = clf.__class__.__name__\n",
        "  auc_scores[clf_name] = roc_auc_score(y_test, y_pred_proba)\n",
        "  ax.plot(fpr, tpr, line_styles[i], label=clf_name)\n",
        "\n",
        "ax.set(title='ROC Curve', xlabel='False Positive Rate', ylabel='True Positive Rate')\n",
        "ax.legend(loc='lower right')\n",
        "plt.show()"
      ],
      "execution_count": 143,
      "outputs": [
        {
          "output_type": "display_data",
          "data": {
            "image/png": "[encoded data removed]",
            "text/plain": [
              "<Figure size 720x432 with 1 Axes>"
            ]
          },
          "metadata": {
            "tags": [],
            "needs_background": "light"
          }
        }
      ]
    },
    {
      "cell_type": "code",
      "metadata": {
        "id": "bYqe-9bDm6Qy",
        "colab_type": "code",
        "colab": {
          "base_uri": "https://localhost:8080/",
          "height": 78
        },
        "outputId": "f4d3c015-dbd5-4033-86d0-2c406d58bf86"
      },
      "source": [
        "auc_table = pd.DataFrame.from_dict(auc_scores, orient='index', columns=['AUC'])\n",
        "auc_table.T"
      ],
      "execution_count": 147,
      "outputs": [
        {
          "output_type": "execute_result",
          "data": {
            "text/html": [
              "<div>\n",
              "<style scoped>\n",
              "    .dataframe tbody tr th:only-of-type {\n",
              "        vertical-align: middle;\n",
              "    }\n",
              "\n",
              "    .dataframe tbody tr th {\n",
              "        vertical-align: top;\n",
              "    }\n",
              "\n",
              "    .dataframe thead th {\n",
              "        text-align: right;\n",
              "    }\n",
              "</style>\n",
              "<table border=\"1\" class=\"dataframe\">\n",
              "  <thead>\n",
              "    <tr style=\"text-align: right;\">\n",
              "      <th></th>\n",
              "      <th>LogisticRegression</th>\n",
              "      <th>DecisionTreeClassifier</th>\n",
              "      <th>RandomForestClassifier</th>\n",
              "    </tr>\n",
              "  </thead>\n",
              "  <tbody>\n",
              "    <tr>\n",
              "      <th>AUC</th>\n",
              "      <td>0.83052</td>\n",
              "      <td>0.823979</td>\n",
              "      <td>0.934754</td>\n",
              "    </tr>\n",
              "  </tbody>\n",
              "</table>\n",
              "</div>"
            ],
            "text/plain": [
              "     LogisticRegression  DecisionTreeClassifier  RandomForestClassifier\n",
              "AUC             0.83052                0.823979                0.934754"
            ]
          },
          "metadata": {
            "tags": []
          },
          "execution_count": 147
        }
      ]
    },
    {
      "cell_type": "markdown",
      "metadata": {
        "id": "MKhAI8puqRew",
        "colab_type": "text"
      },
      "source": [
        "RandomForest classifier has the highest AUC score."
      ]
    },
    {
      "cell_type": "markdown",
      "metadata": {
        "id": "iJwsK9aKtExT",
        "colab_type": "text"
      },
      "source": [
        "#Hyperparameter Tuning"
      ]
    },
    {
      "cell_type": "code",
      "metadata": {
        "id": "DECHrBHlpp4t",
        "colab_type": "code",
        "colab": {
          "base_uri": "https://localhost:8080/",
          "height": 417
        },
        "outputId": "b7bb7326-e1f3-4be2-db6c-4f5706fe3dd6"
      },
      "source": [
        "from sklearn.model_selection import GridSearchCV\n",
        "\n",
        "# Create the hyperparameter grid\n",
        "param_grid = {\"max_depth\": [3, None],\n",
        "              \"max_features\": [1, 3, 10],\n",
        "              \"bootstrap\": [True, False],\n",
        "              \"criterion\": [\"gini\", \"entropy\"]}\n",
        "\n",
        "grid_search = GridSearchCV(rf, param_grid)\n",
        "grid_search.fit(X_train, y_train)"
      ],
      "execution_count": 153,
      "outputs": [
        {
          "output_type": "execute_result",
          "data": {
            "text/plain": [
              "GridSearchCV(cv=None, error_score=nan,\n",
              "             estimator=RandomForestClassifier(bootstrap=True, ccp_alpha=0.0,\n",
              "                                              class_weight=None,\n",
              "                                              criterion='gini', max_depth=None,\n",
              "                                              max_features='auto',\n",
              "                                              max_leaf_nodes=None,\n",
              "                                              max_samples=None,\n",
              "                                              min_impurity_decrease=0.0,\n",
              "                                              min_impurity_split=None,\n",
              "                                              min_samples_leaf=1,\n",
              "                                              min_samples_split=2,\n",
              "                                              min_weight_fraction_leaf=0.0,\n",
              "                                              n_estimators=100, n_jobs=None,\n",
              "                                              oob_score=False,\n",
              "                                              random_state=None, verbose=0,\n",
              "                                              warm_start=False),\n",
              "             iid='deprecated', n_jobs=None,\n",
              "             param_grid={'bootstrap': [True, False],\n",
              "                         'criterion': ['gini', 'entropy'],\n",
              "                         'max_depth': [3, None], 'max_features': [1, 3, 10]},\n",
              "             pre_dispatch='2*n_jobs', refit=True, return_train_score=False,\n",
              "             scoring=None, verbose=0)"
            ]
          },
          "metadata": {
            "tags": []
          },
          "execution_count": 153
        }
      ]
    },
    {
      "cell_type": "code",
      "metadata": {
        "id": "0A31QG4luuKe",
        "colab_type": "code",
        "colab": {
          "base_uri": "https://localhost:8080/",
          "height": 54
        },
        "outputId": "ac4502ed-efdb-408b-8825-53de3c9eb675"
      },
      "source": [
        "print(f'best score from grid search: {grid_search.best_score_}')\n",
        "print(f'best parameters from grid search: {grid_search.best_params_}')"
      ],
      "execution_count": 156,
      "outputs": [
        {
          "output_type": "stream",
          "text": [
            "best score from grid search: 0.9545661743757524\n",
            "best parameters from grid search: {'bootstrap': True, 'criterion': 'entropy', 'max_depth': None, 'max_features': 10}\n"
          ],
          "name": "stdout"
        }
      ]
    },
    {
      "cell_type": "code",
      "metadata": {
        "id": "FaC1p4eUu3BJ",
        "colab_type": "code",
        "colab": {
          "base_uri": "https://localhost:8080/",
          "height": 508
        },
        "outputId": "e018a971-6e7c-4b15-f9a9-e5bdf697a800"
      },
      "source": [
        "from sklearn.model_selection import RandomizedSearchCV\n",
        "\n",
        "param_grid = {\"max_depth\": [3, None],\n",
        "              \"max_features\": [1, 3, 10],\n",
        "              \"bootstrap\": [True, False],\n",
        "              \"criterion\": [\"gini\", \"entropy\"]}\n",
        "\n",
        "random_search = RandomizedSearchCV(rf, param_grid)\n",
        "\n",
        "random_search.fit(X_train, y_train)"
      ],
      "execution_count": 162,
      "outputs": [
        {
          "output_type": "execute_result",
          "data": {
            "text/plain": [
              "RandomizedSearchCV(cv=None, error_score=nan,\n",
              "                   estimator=RandomForestClassifier(bootstrap=True,\n",
              "                                                    ccp_alpha=0.0,\n",
              "                                                    class_weight=None,\n",
              "                                                    criterion='gini',\n",
              "                                                    max_depth=None,\n",
              "                                                    max_features='auto',\n",
              "                                                    max_leaf_nodes=None,\n",
              "                                                    max_samples=None,\n",
              "                                                    min_impurity_decrease=0.0,\n",
              "                                                    min_impurity_split=None,\n",
              "                                                    min_samples_leaf=1,\n",
              "                                                    min_samples_split=2,\n",
              "                                                    min_weight_fraction_leaf=0.0,\n",
              "                                                    n_estimators=100,\n",
              "                                                    n_jobs=None,\n",
              "                                                    oob_score=False,\n",
              "                                                    random_state=None,\n",
              "                                                    verbose=0,\n",
              "                                                    warm_start=False),\n",
              "                   iid='deprecated', n_iter=10, n_jobs=None,\n",
              "                   param_distributions={'bootstrap': [True, False],\n",
              "                                        'criterion': ['gini', 'entropy'],\n",
              "                                        'max_depth': [3, None],\n",
              "                                        'max_features': [1, 3, 10]},\n",
              "                   pre_dispatch='2*n_jobs', random_state=None, refit=True,\n",
              "                   return_train_score=False, scoring=None, verbose=0)"
            ]
          },
          "metadata": {
            "tags": []
          },
          "execution_count": 162
        }
      ]
    },
    {
      "cell_type": "code",
      "metadata": {
        "id": "MEchBAaEv5Np",
        "colab_type": "code",
        "colab": {
          "base_uri": "https://localhost:8080/",
          "height": 54
        },
        "outputId": "7bcafd60-50a3-4eb7-8457-0c615c5fab25"
      },
      "source": [
        "print(f'best score from random search: {random_search.best_score_}')\n",
        "print(f'best parameters from random search: {random_search.best_params_}')"
      ],
      "execution_count": 163,
      "outputs": [
        {
          "output_type": "stream",
          "text": [
            "best score from random search: 0.9485667809320748\n",
            "best parameters from random search: {'max_features': 3, 'max_depth': None, 'criterion': 'entropy', 'bootstrap': False}\n"
          ],
          "name": "stdout"
        }
      ]
    },
    {
      "cell_type": "markdown",
      "metadata": {
        "id": "K07DkmK4x7z_",
        "colab_type": "text"
      },
      "source": [
        "# Interprete model by feature importance"
      ]
    },
    {
      "cell_type": "code",
      "metadata": {
        "id": "djdFWqtUwNq1",
        "colab_type": "code",
        "colab": {
          "base_uri": "https://localhost:8080/",
          "height": 483
        },
        "outputId": "e75b67ec-d742-4946-c569-cbe8d7b5422c"
      },
      "source": [
        "importances = grid_search.best_estimator_.feature_importances_\n",
        "\n",
        "sorted_index = np.argsort(importances)\n",
        "labels = X_train.columns[sorted_index]\n",
        "\n",
        "plt.figure(figsize=(10, 8))\n",
        "plt.barh(range(X_train.shape[1]), importances[sorted_index], tick_label=labels)\n",
        "plt.show()"
      ],
      "execution_count": 169,
      "outputs": [
        {
          "output_type": "display_data",
          "data": {
            "image/png": "[encoded data removed]",
            "text/plain": [
              "<Figure size 720x576 with 1 Axes>"
            ]
          },
          "metadata": {
            "tags": [],
            "needs_background": "light"
          }
        }
      ]
    },
    {
      "cell_type": "markdown",
      "metadata": {
        "id": "vSiPM-Ijy49N",
        "colab_type": "text"
      },
      "source": [
        "The top three important features that drive churn are: `Day Charge`, `Day Mins` and `Customer Service Calls`."
      ]
    },
    {
      "cell_type": "code",
      "metadata": {
        "id": "0znRK2VVyhQu",
        "colab_type": "code",
        "colab": {}
      },
      "source": [
        ""
      ],
      "execution_count": 0,
      "outputs": []
    }
  ]
}