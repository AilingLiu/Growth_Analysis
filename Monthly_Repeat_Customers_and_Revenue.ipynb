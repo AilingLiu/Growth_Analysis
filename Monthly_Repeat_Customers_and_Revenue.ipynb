{
  "nbformat": 4,
  "nbformat_minor": 0,
  "metadata": {
    "colab": {
      "name": "Monthly_Repeat_Customers_and_Revenue.ipynb",
      "provenance": [],
      "collapsed_sections": [],
      "authorship_tag": "ABX9TyMB1YLoWLXzRyKkYf/jW4u3",
      "include_colab_link": true
    },
    "kernelspec": {
      "name": "python3",
      "display_name": "Python 3"
    }
  },
  "cells": [
    {
      "cell_type": "markdown",
      "metadata": {
        "id": "view-in-github",
        "colab_type": "text"
      },
      "source": [
        "<a href=\"https://colab.research.google.com/github/AilingLiu/Growth_Analysis/blob/master/Monthly_Repeat_Customers_and_Revenue.ipynb\" target=\"_parent\"><img src=\"https://colab.research.google.com/assets/colab-badge.svg\" alt=\"Open In Colab\"/></a>"
      ]
    },
    {
      "cell_type": "code",
      "metadata": {
        "id": "MIhdkqH2PQ56",
        "colab_type": "code",
        "colab": {}
      },
      "source": [
        "import numpy as np\n",
        "import pandas as pd\n",
        "import matplotlib.pyplot as plt\n",
        "import seaborn as sns\n",
        "import scipy.stats as st\n",
        "import statsmodels.api as sm\n",
        "import warnings\n",
        "warnings.filterwarnings(action=\"ignore\")"
      ],
      "execution_count": 0,
      "outputs": []
    },
    {
      "cell_type": "markdown",
      "metadata": {
        "id": "T_tr_5bJPV1D",
        "colab_type": "text"
      },
      "source": [
        "We will check how many customers are repeat customers, i.e. to place orders repeatedly within a month, and its contribution towards total sales revenue."
      ]
    },
    {
      "cell_type": "code",
      "metadata": {
        "id": "pMU9ONsWPSOT",
        "colab_type": "code",
        "colab": {
          "base_uri": "https://localhost:8080/",
          "height": 198
        },
        "outputId": "3837a332-1529-479e-860e-06066d3350bb"
      },
      "source": [
        "url='https://github.com/AilingLiu/Growth_Analysis/blob/master/Data/online_retail.csv?raw=true'\n",
        "retail = pd.read_csv(url, encoding = 'unicode_escape')\n",
        "retail['InvoiceDate']=pd.to_datetime(retail['InvoiceDate'])\n",
        "retail['Payment'] = retail['Quantity'] * retail['UnitPrice']\n",
        "retail.head()"
      ],
      "execution_count": 16,
      "outputs": [
        {
          "output_type": "execute_result",
          "data": {
            "text/html": [
              "<div>\n",
              "<style scoped>\n",
              "    .dataframe tbody tr th:only-of-type {\n",
              "        vertical-align: middle;\n",
              "    }\n",
              "\n",
              "    .dataframe tbody tr th {\n",
              "        vertical-align: top;\n",
              "    }\n",
              "\n",
              "    .dataframe thead th {\n",
              "        text-align: right;\n",
              "    }\n",
              "</style>\n",
              "<table border=\"1\" class=\"dataframe\">\n",
              "  <thead>\n",
              "    <tr style=\"text-align: right;\">\n",
              "      <th></th>\n",
              "      <th>InvoiceNo</th>\n",
              "      <th>StockCode</th>\n",
              "      <th>Description</th>\n",
              "      <th>Quantity</th>\n",
              "      <th>InvoiceDate</th>\n",
              "      <th>UnitPrice</th>\n",
              "      <th>CustomerID</th>\n",
              "      <th>Country</th>\n",
              "      <th>Payment</th>\n",
              "    </tr>\n",
              "  </thead>\n",
              "  <tbody>\n",
              "    <tr>\n",
              "      <th>0</th>\n",
              "      <td>536365</td>\n",
              "      <td>85123A</td>\n",
              "      <td>WHITE HANGING HEART T-LIGHT HOLDER</td>\n",
              "      <td>6</td>\n",
              "      <td>2010-12-01 08:26:00</td>\n",
              "      <td>2.55</td>\n",
              "      <td>17850.0</td>\n",
              "      <td>United Kingdom</td>\n",
              "      <td>15.30</td>\n",
              "    </tr>\n",
              "    <tr>\n",
              "      <th>1</th>\n",
              "      <td>536365</td>\n",
              "      <td>71053</td>\n",
              "      <td>WHITE METAL LANTERN</td>\n",
              "      <td>6</td>\n",
              "      <td>2010-12-01 08:26:00</td>\n",
              "      <td>3.39</td>\n",
              "      <td>17850.0</td>\n",
              "      <td>United Kingdom</td>\n",
              "      <td>20.34</td>\n",
              "    </tr>\n",
              "    <tr>\n",
              "      <th>2</th>\n",
              "      <td>536365</td>\n",
              "      <td>84406B</td>\n",
              "      <td>CREAM CUPID HEARTS COAT HANGER</td>\n",
              "      <td>8</td>\n",
              "      <td>2010-12-01 08:26:00</td>\n",
              "      <td>2.75</td>\n",
              "      <td>17850.0</td>\n",
              "      <td>United Kingdom</td>\n",
              "      <td>22.00</td>\n",
              "    </tr>\n",
              "    <tr>\n",
              "      <th>3</th>\n",
              "      <td>536365</td>\n",
              "      <td>84029G</td>\n",
              "      <td>KNITTED UNION FLAG HOT WATER BOTTLE</td>\n",
              "      <td>6</td>\n",
              "      <td>2010-12-01 08:26:00</td>\n",
              "      <td>3.39</td>\n",
              "      <td>17850.0</td>\n",
              "      <td>United Kingdom</td>\n",
              "      <td>20.34</td>\n",
              "    </tr>\n",
              "    <tr>\n",
              "      <th>4</th>\n",
              "      <td>536365</td>\n",
              "      <td>84029E</td>\n",
              "      <td>RED WOOLLY HOTTIE WHITE HEART.</td>\n",
              "      <td>6</td>\n",
              "      <td>2010-12-01 08:26:00</td>\n",
              "      <td>3.39</td>\n",
              "      <td>17850.0</td>\n",
              "      <td>United Kingdom</td>\n",
              "      <td>20.34</td>\n",
              "    </tr>\n",
              "  </tbody>\n",
              "</table>\n",
              "</div>"
            ],
            "text/plain": [
              "  InvoiceNo StockCode  ...         Country  Payment\n",
              "0    536365    85123A  ...  United Kingdom    15.30\n",
              "1    536365     71053  ...  United Kingdom    20.34\n",
              "2    536365    84406B  ...  United Kingdom    22.00\n",
              "3    536365    84029G  ...  United Kingdom    20.34\n",
              "4    536365    84029E  ...  United Kingdom    20.34\n",
              "\n",
              "[5 rows x 9 columns]"
            ]
          },
          "metadata": {
            "tags": []
          },
          "execution_count": 16
        }
      ]
    },
    {
      "cell_type": "code",
      "metadata": {
        "id": "hRol81OdPuOf",
        "colab_type": "code",
        "colab": {
          "base_uri": "https://localhost:8080/",
          "height": 181
        },
        "outputId": "b114332c-ea86-43ea-ee3c-50ec3dd90ae4"
      },
      "source": [
        "retail['Quantity'].describe()"
      ],
      "execution_count": 4,
      "outputs": [
        {
          "output_type": "execute_result",
          "data": {
            "text/plain": [
              "count    541909.000000\n",
              "mean          9.552250\n",
              "std         218.081158\n",
              "min      -80995.000000\n",
              "25%           1.000000\n",
              "50%           3.000000\n",
              "75%          10.000000\n",
              "max       80995.000000\n",
              "Name: Quantity, dtype: float64"
            ]
          },
          "metadata": {
            "tags": []
          },
          "execution_count": 4
        }
      ]
    },
    {
      "cell_type": "code",
      "metadata": {
        "id": "uG3HGGM1Qun8",
        "colab_type": "code",
        "colab": {
          "base_uri": "https://localhost:8080/",
          "height": 198
        },
        "outputId": "5a53d7ab-07aa-4018-d422-221c3f84e385"
      },
      "source": [
        "# we will first filter out the negative values from the dataset\n",
        "df = retail.loc[(retail['Quantity']>0) & (retail['CustomerID'].notnull())]\n",
        "\n",
        "# group by invoice\n",
        "gb = df.groupby(['InvoiceNo', 'InvoiceDate']).agg({\n",
        "    'Payment': 'sum',\n",
        "    'CustomerID': 'max'\n",
        "})\n",
        "gb.reset_index(inplace=True)\n",
        "gb.head()"
      ],
      "execution_count": 43,
      "outputs": [
        {
          "output_type": "execute_result",
          "data": {
            "text/html": [
              "<div>\n",
              "<style scoped>\n",
              "    .dataframe tbody tr th:only-of-type {\n",
              "        vertical-align: middle;\n",
              "    }\n",
              "\n",
              "    .dataframe tbody tr th {\n",
              "        vertical-align: top;\n",
              "    }\n",
              "\n",
              "    .dataframe thead th {\n",
              "        text-align: right;\n",
              "    }\n",
              "</style>\n",
              "<table border=\"1\" class=\"dataframe\">\n",
              "  <thead>\n",
              "    <tr style=\"text-align: right;\">\n",
              "      <th></th>\n",
              "      <th>InvoiceNo</th>\n",
              "      <th>InvoiceDate</th>\n",
              "      <th>Payment</th>\n",
              "      <th>CustomerID</th>\n",
              "    </tr>\n",
              "  </thead>\n",
              "  <tbody>\n",
              "    <tr>\n",
              "      <th>0</th>\n",
              "      <td>536365</td>\n",
              "      <td>2010-12-01 08:26:00</td>\n",
              "      <td>139.12</td>\n",
              "      <td>17850.0</td>\n",
              "    </tr>\n",
              "    <tr>\n",
              "      <th>1</th>\n",
              "      <td>536366</td>\n",
              "      <td>2010-12-01 08:28:00</td>\n",
              "      <td>22.20</td>\n",
              "      <td>17850.0</td>\n",
              "    </tr>\n",
              "    <tr>\n",
              "      <th>2</th>\n",
              "      <td>536367</td>\n",
              "      <td>2010-12-01 08:34:00</td>\n",
              "      <td>278.73</td>\n",
              "      <td>13047.0</td>\n",
              "    </tr>\n",
              "    <tr>\n",
              "      <th>3</th>\n",
              "      <td>536368</td>\n",
              "      <td>2010-12-01 08:34:00</td>\n",
              "      <td>70.05</td>\n",
              "      <td>13047.0</td>\n",
              "    </tr>\n",
              "    <tr>\n",
              "      <th>4</th>\n",
              "      <td>536369</td>\n",
              "      <td>2010-12-01 08:35:00</td>\n",
              "      <td>17.85</td>\n",
              "      <td>13047.0</td>\n",
              "    </tr>\n",
              "  </tbody>\n",
              "</table>\n",
              "</div>"
            ],
            "text/plain": [
              "  InvoiceNo         InvoiceDate  Payment  CustomerID\n",
              "0    536365 2010-12-01 08:26:00   139.12     17850.0\n",
              "1    536366 2010-12-01 08:28:00    22.20     17850.0\n",
              "2    536367 2010-12-01 08:34:00   278.73     13047.0\n",
              "3    536368 2010-12-01 08:34:00    70.05     13047.0\n",
              "4    536369 2010-12-01 08:35:00    17.85     13047.0"
            ]
          },
          "metadata": {
            "tags": []
          },
          "execution_count": 43
        }
      ]
    },
    {
      "cell_type": "code",
      "metadata": {
        "id": "f8gBAt7WYU_7",
        "colab_type": "code",
        "colab": {
          "base_uri": "https://localhost:8080/",
          "height": 468
        },
        "outputId": "d5189f52-53d6-4187-9f94-0015fed19076"
      },
      "source": [
        "# filter out to extract customers that have more than one invoice no within the same month\n",
        "gb['InvoiceYM']=gb['InvoiceDate'].apply(lambda x: x.strftime('%Y%m'))\n",
        "repeatCust = gb.groupby(['InvoiceYM', 'CustomerID']).filter(lambda sf: len(sf)>1)\n",
        "\n",
        "repeatCustNum = repeatCust.groupby(['InvoiceYM'])['CustomerID'].nunique().to_frame('RepeatCust')\n",
        "repeatCustNum['Total'] = gb.groupby(['InvoiceYM'])['CustomerID'].nunique()\n",
        "repeatCustNum['Ratio'] = (repeatCustNum['RepeatCust']*100/repeatCustNum['Total']).round(2)\n",
        "repeatCustNum"
      ],
      "execution_count": 91,
      "outputs": [
        {
          "output_type": "execute_result",
          "data": {
            "text/html": [
              "<div>\n",
              "<style scoped>\n",
              "    .dataframe tbody tr th:only-of-type {\n",
              "        vertical-align: middle;\n",
              "    }\n",
              "\n",
              "    .dataframe tbody tr th {\n",
              "        vertical-align: top;\n",
              "    }\n",
              "\n",
              "    .dataframe thead th {\n",
              "        text-align: right;\n",
              "    }\n",
              "</style>\n",
              "<table border=\"1\" class=\"dataframe\">\n",
              "  <thead>\n",
              "    <tr style=\"text-align: right;\">\n",
              "      <th></th>\n",
              "      <th>RepeatCust</th>\n",
              "      <th>Total</th>\n",
              "      <th>Ratio</th>\n",
              "    </tr>\n",
              "    <tr>\n",
              "      <th>InvoiceYM</th>\n",
              "      <th></th>\n",
              "      <th></th>\n",
              "      <th></th>\n",
              "    </tr>\n",
              "  </thead>\n",
              "  <tbody>\n",
              "    <tr>\n",
              "      <th>201012</th>\n",
              "      <td>263</td>\n",
              "      <td>885</td>\n",
              "      <td>29.72</td>\n",
              "    </tr>\n",
              "    <tr>\n",
              "      <th>201101</th>\n",
              "      <td>153</td>\n",
              "      <td>741</td>\n",
              "      <td>20.65</td>\n",
              "    </tr>\n",
              "    <tr>\n",
              "      <th>201102</th>\n",
              "      <td>153</td>\n",
              "      <td>758</td>\n",
              "      <td>20.18</td>\n",
              "    </tr>\n",
              "    <tr>\n",
              "      <th>201103</th>\n",
              "      <td>203</td>\n",
              "      <td>974</td>\n",
              "      <td>20.84</td>\n",
              "    </tr>\n",
              "    <tr>\n",
              "      <th>201104</th>\n",
              "      <td>170</td>\n",
              "      <td>856</td>\n",
              "      <td>19.86</td>\n",
              "    </tr>\n",
              "    <tr>\n",
              "      <th>201105</th>\n",
              "      <td>281</td>\n",
              "      <td>1056</td>\n",
              "      <td>26.61</td>\n",
              "    </tr>\n",
              "    <tr>\n",
              "      <th>201106</th>\n",
              "      <td>220</td>\n",
              "      <td>991</td>\n",
              "      <td>22.20</td>\n",
              "    </tr>\n",
              "    <tr>\n",
              "      <th>201107</th>\n",
              "      <td>227</td>\n",
              "      <td>949</td>\n",
              "      <td>23.92</td>\n",
              "    </tr>\n",
              "    <tr>\n",
              "      <th>201108</th>\n",
              "      <td>198</td>\n",
              "      <td>935</td>\n",
              "      <td>21.18</td>\n",
              "    </tr>\n",
              "    <tr>\n",
              "      <th>201109</th>\n",
              "      <td>272</td>\n",
              "      <td>1266</td>\n",
              "      <td>21.48</td>\n",
              "    </tr>\n",
              "    <tr>\n",
              "      <th>201110</th>\n",
              "      <td>324</td>\n",
              "      <td>1364</td>\n",
              "      <td>23.75</td>\n",
              "    </tr>\n",
              "    <tr>\n",
              "      <th>201111</th>\n",
              "      <td>541</td>\n",
              "      <td>1665</td>\n",
              "      <td>32.49</td>\n",
              "    </tr>\n",
              "    <tr>\n",
              "      <th>201112</th>\n",
              "      <td>106</td>\n",
              "      <td>615</td>\n",
              "      <td>17.24</td>\n",
              "    </tr>\n",
              "  </tbody>\n",
              "</table>\n",
              "</div>"
            ],
            "text/plain": [
              "           RepeatCust  Total  Ratio\n",
              "InvoiceYM                          \n",
              "201012            263    885  29.72\n",
              "201101            153    741  20.65\n",
              "201102            153    758  20.18\n",
              "201103            203    974  20.84\n",
              "201104            170    856  19.86\n",
              "201105            281   1056  26.61\n",
              "201106            220    991  22.20\n",
              "201107            227    949  23.92\n",
              "201108            198    935  21.18\n",
              "201109            272   1266  21.48\n",
              "201110            324   1364  23.75\n",
              "201111            541   1665  32.49\n",
              "201112            106    615  17.24"
            ]
          },
          "metadata": {
            "tags": []
          },
          "execution_count": 91
        }
      ]
    },
    {
      "cell_type": "code",
      "metadata": {
        "id": "_VKSiW_qRHAn",
        "colab_type": "code",
        "colab": {
          "base_uri": "https://localhost:8080/",
          "height": 537
        },
        "outputId": "05a2baeb-0643-44fd-daed-a2de50f28168"
      },
      "source": [
        "ax = repeatCustNum.iloc[:-1, [0, 1]].plot(grid=True, figsize=(10, 8), rot=45)\n",
        "ax2 = repeatCustNum.iloc[:-1, -1].plot(kind='bar', secondary_y=True, grid=True, \n",
        "                                    figsize=(10, 8), color='brown', alpha=0.2, \n",
        "                                    rot=45)\n",
        "ax2.set_ylim(0, 100)\n",
        "ax.set_ylim(0, 1800)\n",
        "ax2.legend(['Repeat Customer%'], loc='upper right')\n",
        "ax.set_title('Number of All and Repeat Customers')\n",
        "plt.show()"
      ],
      "execution_count": 90,
      "outputs": [
        {
          "output_type": "display_data",
          "data": {
            "image/png": "[encoded data removed]",
            "text/plain": [
              "<Figure size 720x576 with 2 Axes>"
            ]
          },
          "metadata": {
            "tags": []
          }
        }
      ]
    },
    {
      "cell_type": "markdown",
      "metadata": {
        "id": "KEZR0imMkui0",
        "colab_type": "text"
      },
      "source": [
        "From Dec 2010 to Aug 2011, the total unique customer progressed steadly around 900, then it drastically increased from September and reached to almost double in November. Similar trends can be observed for Repeat Customer group, that it floated around 200 people before August, and climbed up in September then almost doubled in November. Repeat customers account for 20-30% on monthly average.\n",
        "\n",
        "Now we can check how much revenue does this Repeat Customer group contribute."
      ]
    },
    {
      "cell_type": "code",
      "metadata": {
        "id": "esUOyDVQWuMj",
        "colab_type": "code",
        "colab": {
          "base_uri": "https://localhost:8080/",
          "height": 468
        },
        "outputId": "6d9dd3d2-dc97-40ba-e34a-1ae36e548590"
      },
      "source": [
        "rcRev = repeatCust.groupby(['InvoiceYM'])['Payment'].sum().to_frame('Rev_RepCust')\n",
        "rcRev['Rev_Total'] = gb.groupby(['InvoiceYM'])['Payment'].sum()\n",
        "rcRev['Rev_RepCust%'] = (rcRev['Rev_RepCust']*100 / rcRev['Rev_Total']).round(2)\n",
        "rcRev"
      ],
      "execution_count": 92,
      "outputs": [
        {
          "output_type": "execute_result",
          "data": {
            "text/html": [
              "<div>\n",
              "<style scoped>\n",
              "    .dataframe tbody tr th:only-of-type {\n",
              "        vertical-align: middle;\n",
              "    }\n",
              "\n",
              "    .dataframe tbody tr th {\n",
              "        vertical-align: top;\n",
              "    }\n",
              "\n",
              "    .dataframe thead th {\n",
              "        text-align: right;\n",
              "    }\n",
              "</style>\n",
              "<table border=\"1\" class=\"dataframe\">\n",
              "  <thead>\n",
              "    <tr style=\"text-align: right;\">\n",
              "      <th></th>\n",
              "      <th>Rev_RepCust</th>\n",
              "      <th>Rev_Total</th>\n",
              "      <th>Rev_RepCust%</th>\n",
              "    </tr>\n",
              "    <tr>\n",
              "      <th>InvoiceYM</th>\n",
              "      <th></th>\n",
              "      <th></th>\n",
              "      <th></th>\n",
              "    </tr>\n",
              "  </thead>\n",
              "  <tbody>\n",
              "    <tr>\n",
              "      <th>201012</th>\n",
              "      <td>359170.60</td>\n",
              "      <td>572713.890</td>\n",
              "      <td>62.71</td>\n",
              "    </tr>\n",
              "    <tr>\n",
              "      <th>201101</th>\n",
              "      <td>222124.00</td>\n",
              "      <td>569445.040</td>\n",
              "      <td>39.01</td>\n",
              "    </tr>\n",
              "    <tr>\n",
              "      <th>201102</th>\n",
              "      <td>191229.37</td>\n",
              "      <td>447137.350</td>\n",
              "      <td>42.77</td>\n",
              "    </tr>\n",
              "    <tr>\n",
              "      <th>201103</th>\n",
              "      <td>267390.48</td>\n",
              "      <td>595500.760</td>\n",
              "      <td>44.90</td>\n",
              "    </tr>\n",
              "    <tr>\n",
              "      <th>201104</th>\n",
              "      <td>195474.18</td>\n",
              "      <td>469200.361</td>\n",
              "      <td>41.66</td>\n",
              "    </tr>\n",
              "    <tr>\n",
              "      <th>201105</th>\n",
              "      <td>378197.04</td>\n",
              "      <td>678594.560</td>\n",
              "      <td>55.73</td>\n",
              "    </tr>\n",
              "    <tr>\n",
              "      <th>201106</th>\n",
              "      <td>376307.26</td>\n",
              "      <td>661213.690</td>\n",
              "      <td>56.91</td>\n",
              "    </tr>\n",
              "    <tr>\n",
              "      <th>201107</th>\n",
              "      <td>317475.00</td>\n",
              "      <td>600091.011</td>\n",
              "      <td>52.90</td>\n",
              "    </tr>\n",
              "    <tr>\n",
              "      <th>201108</th>\n",
              "      <td>317134.25</td>\n",
              "      <td>645343.900</td>\n",
              "      <td>49.14</td>\n",
              "    </tr>\n",
              "    <tr>\n",
              "      <th>201109</th>\n",
              "      <td>500663.36</td>\n",
              "      <td>952838.382</td>\n",
              "      <td>52.54</td>\n",
              "    </tr>\n",
              "    <tr>\n",
              "      <th>201110</th>\n",
              "      <td>574006.87</td>\n",
              "      <td>1039318.790</td>\n",
              "      <td>55.23</td>\n",
              "    </tr>\n",
              "    <tr>\n",
              "      <th>201111</th>\n",
              "      <td>713775.85</td>\n",
              "      <td>1161817.380</td>\n",
              "      <td>61.44</td>\n",
              "    </tr>\n",
              "    <tr>\n",
              "      <th>201112</th>\n",
              "      <td>146833.97</td>\n",
              "      <td>518192.790</td>\n",
              "      <td>28.34</td>\n",
              "    </tr>\n",
              "  </tbody>\n",
              "</table>\n",
              "</div>"
            ],
            "text/plain": [
              "           Rev_RepCust    Rev_Total  Rev_RepCust%\n",
              "InvoiceYM                                        \n",
              "201012       359170.60   572713.890         62.71\n",
              "201101       222124.00   569445.040         39.01\n",
              "201102       191229.37   447137.350         42.77\n",
              "201103       267390.48   595500.760         44.90\n",
              "201104       195474.18   469200.361         41.66\n",
              "201105       378197.04   678594.560         55.73\n",
              "201106       376307.26   661213.690         56.91\n",
              "201107       317475.00   600091.011         52.90\n",
              "201108       317134.25   645343.900         49.14\n",
              "201109       500663.36   952838.382         52.54\n",
              "201110       574006.87  1039318.790         55.23\n",
              "201111       713775.85  1161817.380         61.44\n",
              "201112       146833.97   518192.790         28.34"
            ]
          },
          "metadata": {
            "tags": []
          },
          "execution_count": 92
        }
      ]
    },
    {
      "cell_type": "code",
      "metadata": {
        "id": "w009mWt3owkM",
        "colab_type": "code",
        "colab": {
          "base_uri": "https://localhost:8080/",
          "height": 537
        },
        "outputId": "5550229e-cf60-4937-90d7-b1191db5f7ef"
      },
      "source": [
        "ax1 = rcRev.iloc[:-1, [0, 1]].plot(figsize=(10, 8), grid=True, rot=45, title='Revenue by Total and Repeat Customer')\n",
        "ax2 = rcRev.iloc[:-1, 2].plot(kind='bar', color='lightgreen', rot=45, secondary_y=True, alpha=0.2)\n",
        "ax2.set_ylim(0, 100)\n",
        "ax1.set_ylim(0, 1400000)\n",
        "ax1.legend(loc='upper left')\n",
        "ax2.legend(['%Rev.Repeat.Customer'], loc='upper right')\n",
        "plt.show()"
      ],
      "execution_count": 98,
      "outputs": [
        {
          "output_type": "display_data",
          "data": {
            "image/png": "[encoded data removed]",
            "text/plain": [
              "<Figure size 720x576 with 2 Axes>"
            ]
          },
          "metadata": {
            "tags": []
          }
        }
      ]
    },
    {
      "cell_type": "markdown",
      "metadata": {
        "id": "5QyJLIJwp3Wi",
        "colab_type": "text"
      },
      "source": [
        "The revenue followed the same fashion of the number of customers as above. However, the revenue ratio contributed by the repeat customer is about 40-60%, almost half of the revenue comes from the 20-30% of repeat customers. Customer retention is the linchpin of revenue driver."
      ]
    },
    {
      "cell_type": "code",
      "metadata": {
        "id": "vLw2unNnpJgZ",
        "colab_type": "code",
        "colab": {}
      },
      "source": [
        ""
      ],
      "execution_count": 0,
      "outputs": []
    }
  ]
}